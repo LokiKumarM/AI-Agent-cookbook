{
 "cells": [
  {
   "cell_type": "code",
   "execution_count": 1,
   "id": "d3975503-4a98-45b7-b566-5adad3d75cdb",
   "metadata": {},
   "outputs": [],
   "source": [
    "import getpass\n",
    "import os\n",
    "\n",
    "if not os.environ.get(\"OPENAI_API_KEY\"):\n",
    "  os.environ[\"OPENAI_API_KEY\"] = \"YOUR_API_KEY\"\n",
    "\n",
    "# from langchain_openai import OpenAIEmbeddings\n",
    "\n",
    "# embeddings_model = OpenAIEmbeddings(model=\"text-embedding-3-large\")"
   ]
  },
  {
   "cell_type": "code",
   "execution_count": 3,
   "id": "84c3a7c2-1b81-4972-9b84-4e727cea8986",
   "metadata": {},
   "outputs": [
    {
     "data": {
      "application/vnd.jupyter.widget-view+json": {
       "model_id": "6928c1ea159b4a29a8a6eac878908ae5",
       "version_major": 2,
       "version_minor": 0
      },
      "text/plain": [
       "modules.json:   0%|          | 0.00/349 [00:00<?, ?B/s]"
      ]
     },
     "metadata": {},
     "output_type": "display_data"
    },
    {
     "name": "stderr",
     "output_type": "stream",
     "text": [
      "C:\\Users\\LJO2KOR\\AppData\\Local\\Programs\\Python\\Python311\\Lib\\site-packages\\huggingface_hub\\file_download.py:140: UserWarning: `huggingface_hub` cache-system uses symlinks by default to efficiently store duplicated files but your machine does not support them in C:\\Users\\LJO2KOR\\.cache\\huggingface\\hub\\models--sentence-transformers--all-mpnet-base-v2. Caching files will still work but in a degraded version that might require more space on your disk. This warning can be disabled by setting the `HF_HUB_DISABLE_SYMLINKS_WARNING` environment variable. For more details, see https://huggingface.co/docs/huggingface_hub/how-to-cache#limitations.\n",
      "To support symlinks on Windows, you either need to activate Developer Mode or to run Python as an administrator. In order to activate developer mode, see this article: https://docs.microsoft.com/en-us/windows/apps/get-started/enable-your-device-for-development\n",
      "  warnings.warn(message)\n"
     ]
    },
    {
     "data": {
      "application/vnd.jupyter.widget-view+json": {
       "model_id": "512f4521124f4d6a9a42631270df87b3",
       "version_major": 2,
       "version_minor": 0
      },
      "text/plain": [
       "config_sentence_transformers.json:   0%|          | 0.00/116 [00:00<?, ?B/s]"
      ]
     },
     "metadata": {},
     "output_type": "display_data"
    },
    {
     "data": {
      "application/vnd.jupyter.widget-view+json": {
       "model_id": "cedee7d529c4414cb52c68b82450107f",
       "version_major": 2,
       "version_minor": 0
      },
      "text/plain": [
       "README.md:   0%|          | 0.00/10.6k [00:00<?, ?B/s]"
      ]
     },
     "metadata": {},
     "output_type": "display_data"
    },
    {
     "data": {
      "application/vnd.jupyter.widget-view+json": {
       "model_id": "ecdd6c6054634e7aad7df5d483660547",
       "version_major": 2,
       "version_minor": 0
      },
      "text/plain": [
       "sentence_bert_config.json:   0%|          | 0.00/53.0 [00:00<?, ?B/s]"
      ]
     },
     "metadata": {},
     "output_type": "display_data"
    },
    {
     "data": {
      "application/vnd.jupyter.widget-view+json": {
       "model_id": "7cb58ed526d84c8e8b89fde50073095b",
       "version_major": 2,
       "version_minor": 0
      },
      "text/plain": [
       "config.json:   0%|          | 0.00/571 [00:00<?, ?B/s]"
      ]
     },
     "metadata": {},
     "output_type": "display_data"
    },
    {
     "data": {
      "application/vnd.jupyter.widget-view+json": {
       "model_id": "69cab18fef4a48cc8121ac8f10cc53b6",
       "version_major": 2,
       "version_minor": 0
      },
      "text/plain": [
       "model.safetensors:   0%|          | 0.00/438M [00:00<?, ?B/s]"
      ]
     },
     "metadata": {},
     "output_type": "display_data"
    },
    {
     "data": {
      "application/vnd.jupyter.widget-view+json": {
       "model_id": "fde202ec49ca4f9c88107dbd668443f8",
       "version_major": 2,
       "version_minor": 0
      },
      "text/plain": [
       "tokenizer_config.json:   0%|          | 0.00/363 [00:00<?, ?B/s]"
      ]
     },
     "metadata": {},
     "output_type": "display_data"
    },
    {
     "data": {
      "application/vnd.jupyter.widget-view+json": {
       "model_id": "0d24160c35ea4754909eb74664311a24",
       "version_major": 2,
       "version_minor": 0
      },
      "text/plain": [
       "vocab.txt:   0%|          | 0.00/232k [00:00<?, ?B/s]"
      ]
     },
     "metadata": {},
     "output_type": "display_data"
    },
    {
     "data": {
      "application/vnd.jupyter.widget-view+json": {
       "model_id": "cb4434b5ecdf4f0bb03ef272bfe8eb22",
       "version_major": 2,
       "version_minor": 0
      },
      "text/plain": [
       "tokenizer.json:   0%|          | 0.00/466k [00:00<?, ?B/s]"
      ]
     },
     "metadata": {},
     "output_type": "display_data"
    },
    {
     "data": {
      "application/vnd.jupyter.widget-view+json": {
       "model_id": "8d506c40d8a14075816de2cdf9dcc59e",
       "version_major": 2,
       "version_minor": 0
      },
      "text/plain": [
       "special_tokens_map.json:   0%|          | 0.00/239 [00:00<?, ?B/s]"
      ]
     },
     "metadata": {},
     "output_type": "display_data"
    },
    {
     "data": {
      "application/vnd.jupyter.widget-view+json": {
       "model_id": "10f139203a6348a2a321a0fcc7a4539a",
       "version_major": 2,
       "version_minor": 0
      },
      "text/plain": [
       "1_Pooling/config.json:   0%|          | 0.00/190 [00:00<?, ?B/s]"
      ]
     },
     "metadata": {},
     "output_type": "display_data"
    }
   ],
   "source": [
    "from langchain_huggingface import HuggingFaceEmbeddings\n",
    "\n",
    "embeddings_model = HuggingFaceEmbeddings(model_name=\"sentence-transformers/all-mpnet-base-v2\")"
   ]
  },
  {
   "cell_type": "code",
   "execution_count": 4,
   "id": "eaab9dd3-d953-4cd3-a780-18a20faf603a",
   "metadata": {},
   "outputs": [
    {
     "data": {
      "text/plain": [
       "(5, 768)"
      ]
     },
     "execution_count": 4,
     "metadata": {},
     "output_type": "execute_result"
    }
   ],
   "source": [
    "embeddings = embeddings_model.embed_documents(\n",
    "    [\n",
    "        \"Hi there!\",\n",
    "        \"Oh, hello!\",\n",
    "        \"What's your name?\",\n",
    "        \"My friends call me World\",\n",
    "        \"Hello World!\"\n",
    "    ]\n",
    ")\n",
    "len(embeddings), len(embeddings[0])"
   ]
  },
  {
   "cell_type": "code",
   "execution_count": 5,
   "id": "f0e39f15-8501-41d6-a1c9-3df24dabc295",
   "metadata": {},
   "outputs": [
    {
     "data": {
      "text/plain": [
       "[0.0951458215713501,\n",
       " 9.877252159640193e-05,\n",
       " -0.016573389992117882,\n",
       " 0.0448480024933815,\n",
       " 0.04323704168200493]"
      ]
     },
     "execution_count": 5,
     "metadata": {},
     "output_type": "execute_result"
    }
   ],
   "source": [
    "embedded_query = embeddings_model.embed_query(\"What was the name mentioned in the conversation?\")\n",
    "embedded_query[:5]"
   ]
  },
  {
   "cell_type": "code",
   "execution_count": 6,
   "id": "6588e6ba-8da4-4c27-a384-a193f10db4ff",
   "metadata": {},
   "outputs": [
    {
     "data": {
      "application/vnd.jupyter.widget-view+json": {
       "model_id": "d40b3ec798f34a01a02d0b1274cd78d3",
       "version_major": 2,
       "version_minor": 0
      },
      "text/plain": [
       "modules.json:   0%|          | 0.00/349 [00:00<?, ?B/s]"
      ]
     },
     "metadata": {},
     "output_type": "display_data"
    },
    {
     "name": "stderr",
     "output_type": "stream",
     "text": [
      "C:\\Users\\LJO2KOR\\AppData\\Local\\Programs\\Python\\Python311\\Lib\\site-packages\\huggingface_hub\\file_download.py:140: UserWarning: `huggingface_hub` cache-system uses symlinks by default to efficiently store duplicated files but your machine does not support them in C:\\Users\\LJO2KOR\\.cache\\huggingface\\hub\\models--sentence-transformers--all-MiniLM-L6-v2. Caching files will still work but in a degraded version that might require more space on your disk. This warning can be disabled by setting the `HF_HUB_DISABLE_SYMLINKS_WARNING` environment variable. For more details, see https://huggingface.co/docs/huggingface_hub/how-to-cache#limitations.\n",
      "To support symlinks on Windows, you either need to activate Developer Mode or to run Python as an administrator. In order to activate developer mode, see this article: https://docs.microsoft.com/en-us/windows/apps/get-started/enable-your-device-for-development\n",
      "  warnings.warn(message)\n"
     ]
    },
    {
     "data": {
      "application/vnd.jupyter.widget-view+json": {
       "model_id": "b1c8bf7b5c404f04a34076303d15e345",
       "version_major": 2,
       "version_minor": 0
      },
      "text/plain": [
       "config_sentence_transformers.json:   0%|          | 0.00/116 [00:00<?, ?B/s]"
      ]
     },
     "metadata": {},
     "output_type": "display_data"
    },
    {
     "data": {
      "application/vnd.jupyter.widget-view+json": {
       "model_id": "69c860c9b8ea45fc88b1215bf5cc14dc",
       "version_major": 2,
       "version_minor": 0
      },
      "text/plain": [
       "README.md:   0%|          | 0.00/10.7k [00:00<?, ?B/s]"
      ]
     },
     "metadata": {},
     "output_type": "display_data"
    },
    {
     "data": {
      "application/vnd.jupyter.widget-view+json": {
       "model_id": "31fd19c7236c4e40a000a35586e9c9ba",
       "version_major": 2,
       "version_minor": 0
      },
      "text/plain": [
       "sentence_bert_config.json:   0%|          | 0.00/53.0 [00:00<?, ?B/s]"
      ]
     },
     "metadata": {},
     "output_type": "display_data"
    },
    {
     "data": {
      "application/vnd.jupyter.widget-view+json": {
       "model_id": "6aec4e43efd3462fa0a8717fe80cd265",
       "version_major": 2,
       "version_minor": 0
      },
      "text/plain": [
       "config.json:   0%|          | 0.00/612 [00:00<?, ?B/s]"
      ]
     },
     "metadata": {},
     "output_type": "display_data"
    },
    {
     "data": {
      "application/vnd.jupyter.widget-view+json": {
       "model_id": "5c5611a9083f446797b6f584bdb06de4",
       "version_major": 2,
       "version_minor": 0
      },
      "text/plain": [
       "model.safetensors:   0%|          | 0.00/90.9M [00:00<?, ?B/s]"
      ]
     },
     "metadata": {},
     "output_type": "display_data"
    },
    {
     "data": {
      "application/vnd.jupyter.widget-view+json": {
       "model_id": "a7ca17ad301147d9b5092fbda1e0dc78",
       "version_major": 2,
       "version_minor": 0
      },
      "text/plain": [
       "tokenizer_config.json:   0%|          | 0.00/350 [00:00<?, ?B/s]"
      ]
     },
     "metadata": {},
     "output_type": "display_data"
    },
    {
     "data": {
      "application/vnd.jupyter.widget-view+json": {
       "model_id": "1af345a8c48c4689acb8f72a617d3989",
       "version_major": 2,
       "version_minor": 0
      },
      "text/plain": [
       "vocab.txt:   0%|          | 0.00/232k [00:00<?, ?B/s]"
      ]
     },
     "metadata": {},
     "output_type": "display_data"
    },
    {
     "data": {
      "application/vnd.jupyter.widget-view+json": {
       "model_id": "0feb28dd3cb949a2a113dd08840372c1",
       "version_major": 2,
       "version_minor": 0
      },
      "text/plain": [
       "tokenizer.json:   0%|          | 0.00/466k [00:00<?, ?B/s]"
      ]
     },
     "metadata": {},
     "output_type": "display_data"
    },
    {
     "data": {
      "application/vnd.jupyter.widget-view+json": {
       "model_id": "6547bb84453d4aaf9d8f918a6a34f233",
       "version_major": 2,
       "version_minor": 0
      },
      "text/plain": [
       "special_tokens_map.json:   0%|          | 0.00/112 [00:00<?, ?B/s]"
      ]
     },
     "metadata": {},
     "output_type": "display_data"
    },
    {
     "data": {
      "application/vnd.jupyter.widget-view+json": {
       "model_id": "7c4e869b981a4c98baff94d077548a08",
       "version_major": 2,
       "version_minor": 0
      },
      "text/plain": [
       "1_Pooling/config.json:   0%|          | 0.00/190 [00:00<?, ?B/s]"
      ]
     },
     "metadata": {},
     "output_type": "display_data"
    }
   ],
   "source": [
    "from langchain_huggingface import HuggingFaceEmbeddings\n",
    "\n",
    "embeddings_model = HuggingFaceEmbeddings(model_name=\"sentence-transformers/all-MiniLM-L6-v2\")"
   ]
  },
  {
   "cell_type": "code",
   "execution_count": 10,
   "id": "cdd77ef9-2148-459f-b6c4-2a624d3b78ae",
   "metadata": {},
   "outputs": [
    {
     "data": {
      "text/html": [
       "<div>\n",
       "<style scoped>\n",
       "    .dataframe tbody tr th:only-of-type {\n",
       "        vertical-align: middle;\n",
       "    }\n",
       "\n",
       "    .dataframe tbody tr th {\n",
       "        vertical-align: top;\n",
       "    }\n",
       "\n",
       "    .dataframe thead th {\n",
       "        text-align: right;\n",
       "    }\n",
       "</style>\n",
       "<table border=\"1\" class=\"dataframe\">\n",
       "  <thead>\n",
       "    <tr style=\"text-align: right;\">\n",
       "      <th></th>\n",
       "      <th>id</th>\n",
       "      <th>Primary Text</th>\n",
       "      <th>Artifact Type</th>\n",
       "      <th>Safety</th>\n",
       "      <th>Legal</th>\n",
       "      <th>Domains</th>\n",
       "      <th>Status</th>\n",
       "      <th>Review State</th>\n",
       "      <th>Verification_Criteria</th>\n",
       "      <th>Verification_Level</th>\n",
       "      <th>SYS_Verification_Level</th>\n",
       "      <th>isHeading</th>\n",
       "    </tr>\n",
       "  </thead>\n",
       "  <tbody>\n",
       "    <tr>\n",
       "      <th>0</th>\n",
       "      <td>206175</td>\n",
       "      <td>ECU Functioning Range</td>\n",
       "      <td>Heading</td>\n",
       "      <td>NaN</td>\n",
       "      <td>NaN</td>\n",
       "      <td>NaN</td>\n",
       "      <td>NaN</td>\n",
       "      <td>NaN</td>\n",
       "      <td>NaN</td>\n",
       "      <td>NaN</td>\n",
       "      <td>NaN</td>\n",
       "      <td>True</td>\n",
       "    </tr>\n",
       "    <tr>\n",
       "      <th>1</th>\n",
       "      <td>208402</td>\n",
       "      <td>iPDM ECU's behavior shall be defined based on ...</td>\n",
       "      <td>SYS Requirement</td>\n",
       "      <td>ASIL B (D)</td>\n",
       "      <td>False</td>\n",
       "      <td>SYS,HW,SW</td>\n",
       "      <td>accepted</td>\n",
       "      <td>pending</td>\n",
       "      <td>Verify the NORMAL, LOW, OVER voltage scenarios...</td>\n",
       "      <td>NaN</td>\n",
       "      <td>SYS qual. test</td>\n",
       "      <td>False</td>\n",
       "    </tr>\n",
       "    <tr>\n",
       "      <th>2</th>\n",
       "      <td>347831</td>\n",
       "      <td>----------------------------------------------...</td>\n",
       "      <td>SYS Requirement</td>\n",
       "      <td>ASIL B (D)</td>\n",
       "      <td>False</td>\n",
       "      <td>SYS,HW,SW</td>\n",
       "      <td>accepted</td>\n",
       "      <td>pending</td>\n",
       "      <td>Verify the ECU working range as per the table</td>\n",
       "      <td>NaN</td>\n",
       "      <td>SYS qual. test</td>\n",
       "      <td>False</td>\n",
       "    </tr>\n",
       "    <tr>\n",
       "      <th>3</th>\n",
       "      <td>351454</td>\n",
       "      <td>Normal Voltage:\\r\\niPDM shall provide the full...</td>\n",
       "      <td>SYS Requirement</td>\n",
       "      <td>ASIL B (D)</td>\n",
       "      <td>False</td>\n",
       "      <td>SYS,SW</td>\n",
       "      <td>accepted</td>\n",
       "      <td>pending</td>\n",
       "      <td>Verify that the iPDM provides full functionali...</td>\n",
       "      <td>NaN</td>\n",
       "      <td>SYS qual. test</td>\n",
       "      <td>False</td>\n",
       "    </tr>\n",
       "    <tr>\n",
       "      <th>4</th>\n",
       "      <td>351456</td>\n",
       "      <td>Under Voltage:\\r\\niPDM shall provide the full ...</td>\n",
       "      <td>SYS Requirement</td>\n",
       "      <td>ASIL B (D)</td>\n",
       "      <td>False</td>\n",
       "      <td>SYS,HW,SW</td>\n",
       "      <td>accepted</td>\n",
       "      <td>pending</td>\n",
       "      <td>Verify the iPDM functionalities during under v...</td>\n",
       "      <td>NaN</td>\n",
       "      <td>SYS qual. test</td>\n",
       "      <td>False</td>\n",
       "    </tr>\n",
       "    <tr>\n",
       "      <th>5</th>\n",
       "      <td>422904</td>\n",
       "      <td>If KL30_ALT or KL30_BAT &lt; 6.5V, then iPDM shal...</td>\n",
       "      <td>SYS Requirement</td>\n",
       "      <td>ASIL B (D)</td>\n",
       "      <td>False</td>\n",
       "      <td>SYS</td>\n",
       "      <td>accepted</td>\n",
       "      <td>pending</td>\n",
       "      <td>Verify whether the  DTC_Supply_voltage_below_l...</td>\n",
       "      <td>NaN</td>\n",
       "      <td>SYS qual. test</td>\n",
       "      <td>False</td>\n",
       "    </tr>\n",
       "    <tr>\n",
       "      <th>6</th>\n",
       "      <td>422905</td>\n",
       "      <td>If KL30_ALT or KL30_BAT &gt;= 7.0V, then iPDM sha...</td>\n",
       "      <td>SYS Requirement</td>\n",
       "      <td>ASIL B (D)</td>\n",
       "      <td>False</td>\n",
       "      <td>SYS</td>\n",
       "      <td>accepted</td>\n",
       "      <td>pending</td>\n",
       "      <td>Verify whether the  DTC_Supply_voltage_below_l...</td>\n",
       "      <td>NaN</td>\n",
       "      <td>SYS qual. test</td>\n",
       "      <td>False</td>\n",
       "    </tr>\n",
       "    <tr>\n",
       "      <th>7</th>\n",
       "      <td>351457</td>\n",
       "      <td>Over Voltage:\\r\\niPDM shall withstand 18V from...</td>\n",
       "      <td>SYS Requirement</td>\n",
       "      <td>ASIL B (D)</td>\n",
       "      <td>False</td>\n",
       "      <td>SYS,HW,SW</td>\n",
       "      <td>accepted</td>\n",
       "      <td>pending</td>\n",
       "      <td>Verify the iPDM functionalities during over vo...</td>\n",
       "      <td>NaN</td>\n",
       "      <td>SYS qual. test</td>\n",
       "      <td>False</td>\n",
       "    </tr>\n",
       "    <tr>\n",
       "      <th>8</th>\n",
       "      <td>422906</td>\n",
       "      <td>If the voltage in KL30_ALT is within 16V to 24...</td>\n",
       "      <td>SYS Requirement</td>\n",
       "      <td>ASIL B (D)</td>\n",
       "      <td>False</td>\n",
       "      <td>SYS,HW,SW</td>\n",
       "      <td>accepted</td>\n",
       "      <td>done</td>\n",
       "      <td>Verify the iPDM functionalities during overvol...</td>\n",
       "      <td>NaN</td>\n",
       "      <td>SYS qual. test</td>\n",
       "      <td>False</td>\n",
       "    </tr>\n",
       "    <tr>\n",
       "      <th>9</th>\n",
       "      <td>479957</td>\n",
       "      <td>If the voltage in KL30_ALT is greater than 24V...</td>\n",
       "      <td>SYS Requirement</td>\n",
       "      <td>ASIL B (D)</td>\n",
       "      <td>False</td>\n",
       "      <td>NaN</td>\n",
       "      <td>accepted</td>\n",
       "      <td>NaN</td>\n",
       "      <td>Verify the iPDM functionalities during overvol...</td>\n",
       "      <td>NaN</td>\n",
       "      <td>SYS qual. test</td>\n",
       "      <td>False</td>\n",
       "    </tr>\n",
       "    <tr>\n",
       "      <th>10</th>\n",
       "      <td>422907</td>\n",
       "      <td>Note: High voltage conditions beyond the load ...</td>\n",
       "      <td>Information</td>\n",
       "      <td>NaN</td>\n",
       "      <td>NaN</td>\n",
       "      <td>NaN</td>\n",
       "      <td>NaN</td>\n",
       "      <td>NaN</td>\n",
       "      <td>NaN</td>\n",
       "      <td>NaN</td>\n",
       "      <td>NaN</td>\n",
       "      <td>False</td>\n",
       "    </tr>\n",
       "    <tr>\n",
       "      <th>11</th>\n",
       "      <td>422911</td>\n",
       "      <td>If KL30_ALT &gt; 16.5V, then iPDM shall set the D...</td>\n",
       "      <td>SYS Requirement</td>\n",
       "      <td>ASIL B (D)</td>\n",
       "      <td>False</td>\n",
       "      <td>SYS</td>\n",
       "      <td>accepted</td>\n",
       "      <td>pending</td>\n",
       "      <td>Verify whether the  DTC_Supply_voltage_exceede...</td>\n",
       "      <td>NaN</td>\n",
       "      <td>SYS qual. test</td>\n",
       "      <td>False</td>\n",
       "    </tr>\n",
       "    <tr>\n",
       "      <th>12</th>\n",
       "      <td>422915</td>\n",
       "      <td>If KL30_ALT &lt;= 16.0V, then iPDM shall set the ...</td>\n",
       "      <td>SYS Requirement</td>\n",
       "      <td>ASIL B (D)</td>\n",
       "      <td>False</td>\n",
       "      <td>SYS</td>\n",
       "      <td>accepted</td>\n",
       "      <td>pending</td>\n",
       "      <td>Verify whether the  DTC_Supply_voltage_exceede...</td>\n",
       "      <td>NaN</td>\n",
       "      <td>SYS qual. test</td>\n",
       "      <td>False</td>\n",
       "    </tr>\n",
       "  </tbody>\n",
       "</table>\n",
       "</div>"
      ],
      "text/plain": [
       "        id                                       Primary Text  \\\n",
       "0   206175                              ECU Functioning Range   \n",
       "1   208402  iPDM ECU's behavior shall be defined based on ...   \n",
       "2   347831  ----------------------------------------------...   \n",
       "3   351454  Normal Voltage:\\r\\niPDM shall provide the full...   \n",
       "4   351456  Under Voltage:\\r\\niPDM shall provide the full ...   \n",
       "5   422904  If KL30_ALT or KL30_BAT < 6.5V, then iPDM shal...   \n",
       "6   422905  If KL30_ALT or KL30_BAT >= 7.0V, then iPDM sha...   \n",
       "7   351457  Over Voltage:\\r\\niPDM shall withstand 18V from...   \n",
       "8   422906  If the voltage in KL30_ALT is within 16V to 24...   \n",
       "9   479957  If the voltage in KL30_ALT is greater than 24V...   \n",
       "10  422907  Note: High voltage conditions beyond the load ...   \n",
       "11  422911  If KL30_ALT > 16.5V, then iPDM shall set the D...   \n",
       "12  422915  If KL30_ALT <= 16.0V, then iPDM shall set the ...   \n",
       "\n",
       "      Artifact Type      Safety  Legal    Domains    Status Review State  \\\n",
       "0           Heading         NaN    NaN        NaN       NaN          NaN   \n",
       "1   SYS Requirement  ASIL B (D)  False  SYS,HW,SW  accepted      pending   \n",
       "2   SYS Requirement  ASIL B (D)  False  SYS,HW,SW  accepted      pending   \n",
       "3   SYS Requirement  ASIL B (D)  False     SYS,SW  accepted      pending   \n",
       "4   SYS Requirement  ASIL B (D)  False  SYS,HW,SW  accepted      pending   \n",
       "5   SYS Requirement  ASIL B (D)  False        SYS  accepted      pending   \n",
       "6   SYS Requirement  ASIL B (D)  False        SYS  accepted      pending   \n",
       "7   SYS Requirement  ASIL B (D)  False  SYS,HW,SW  accepted      pending   \n",
       "8   SYS Requirement  ASIL B (D)  False  SYS,HW,SW  accepted         done   \n",
       "9   SYS Requirement  ASIL B (D)  False        NaN  accepted          NaN   \n",
       "10      Information         NaN    NaN        NaN       NaN          NaN   \n",
       "11  SYS Requirement  ASIL B (D)  False        SYS  accepted      pending   \n",
       "12  SYS Requirement  ASIL B (D)  False        SYS  accepted      pending   \n",
       "\n",
       "                                Verification_Criteria  Verification_Level  \\\n",
       "0                                                 NaN                 NaN   \n",
       "1   Verify the NORMAL, LOW, OVER voltage scenarios...                 NaN   \n",
       "2       Verify the ECU working range as per the table                 NaN   \n",
       "3   Verify that the iPDM provides full functionali...                 NaN   \n",
       "4   Verify the iPDM functionalities during under v...                 NaN   \n",
       "5   Verify whether the  DTC_Supply_voltage_below_l...                 NaN   \n",
       "6   Verify whether the  DTC_Supply_voltage_below_l...                 NaN   \n",
       "7   Verify the iPDM functionalities during over vo...                 NaN   \n",
       "8   Verify the iPDM functionalities during overvol...                 NaN   \n",
       "9   Verify the iPDM functionalities during overvol...                 NaN   \n",
       "10                                                NaN                 NaN   \n",
       "11  Verify whether the  DTC_Supply_voltage_exceede...                 NaN   \n",
       "12  Verify whether the  DTC_Supply_voltage_exceede...                 NaN   \n",
       "\n",
       "   SYS_Verification_Level  isHeading  \n",
       "0                     NaN       True  \n",
       "1          SYS qual. test      False  \n",
       "2          SYS qual. test      False  \n",
       "3          SYS qual. test      False  \n",
       "4          SYS qual. test      False  \n",
       "5          SYS qual. test      False  \n",
       "6          SYS qual. test      False  \n",
       "7          SYS qual. test      False  \n",
       "8          SYS qual. test      False  \n",
       "9          SYS qual. test      False  \n",
       "10                    NaN      False  \n",
       "11         SYS qual. test      False  \n",
       "12         SYS qual. test      False  "
      ]
     },
     "execution_count": 10,
     "metadata": {},
     "output_type": "execute_result"
    }
   ],
   "source": [
    "import pandas as pd\n",
    "\n",
    "# reading csv file \n",
    "df = pd.read_csv(\"Sample_Req.csv\")\n",
    "df"
   ]
  },
  {
   "cell_type": "code",
   "execution_count": 16,
   "id": "d3759dd1-8eda-4cfc-b559-e23844256a51",
   "metadata": {},
   "outputs": [
    {
     "data": {
      "text/plain": [
       "pandas.core.frame.DataFrame"
      ]
     },
     "execution_count": 16,
     "metadata": {},
     "output_type": "execute_result"
    }
   ],
   "source": [
    "type(df)"
   ]
  },
  {
   "cell_type": "code",
   "execution_count": 11,
   "id": "6ac2da50-cbeb-456f-aef2-8946dbf45512",
   "metadata": {},
   "outputs": [],
   "source": [
    "import os\n",
    "\n",
    "os.environ[\"GROQ_API_KEY\"] = \"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\""
   ]
  },
  {
   "cell_type": "code",
   "execution_count": 29,
   "id": "1ab1a19b-5c53-4d97-93cb-ead55d85c937",
   "metadata": {},
   "outputs": [],
   "source": [
    "from langchain_groq import ChatGroq\n",
    "\n",
    "llm = ChatGroq(\n",
    "    model=\"llama-3.3-70b-versatile\",\n",
    "    temperature=0,\n",
    ")"
   ]
  },
  {
   "cell_type": "code",
   "execution_count": 30,
   "id": "015255b2-65e0-40b9-9335-60969024214c",
   "metadata": {},
   "outputs": [],
   "source": [
    "from langchain.prompts import PromptTemplate\n",
    "\n",
    "template = '''\n",
    "You are given a pandas data frame. You need to convert the data frame into JSON object.\n",
    "1. Return a valid JSON. No preamble. \n",
    "2. The JSON object's keys should correspond to the column headers of the data frame, and each row should become a JSON object with its respective column values\n",
    "\n",
    "Here is the data frame on which you need to perform this task:  \n",
    "{data_frame}\n",
    "'''\n",
    "\n",
    "pt = PromptTemplate.from_template(template)"
   ]
  },
  {
   "cell_type": "code",
   "execution_count": 31,
   "id": "1ea8e40f-b5eb-4a80-afe3-86ff3a13e388",
   "metadata": {},
   "outputs": [],
   "source": [
    "chain = pt | llm\n",
    "response = chain.invoke(input={\"data_frame\": df})"
   ]
  },
  {
   "cell_type": "code",
   "execution_count": 25,
   "id": "5a135742-8822-46bf-8ec4-9b3a27f591aa",
   "metadata": {},
   "outputs": [
    {
     "data": {
      "text/plain": [
       "langchain_core.messages.ai.AIMessage"
      ]
     },
     "execution_count": 25,
     "metadata": {},
     "output_type": "execute_result"
    }
   ],
   "source": [
    "type(response)"
   ]
  },
  {
   "cell_type": "code",
   "execution_count": 33,
   "id": "3284ef06-3c67-40b8-ae84-7f48ac99ee8d",
   "metadata": {},
   "outputs": [],
   "source": [
    "from langchain_core.exceptions import OutputParserException\n",
    "from langchain_core.output_parsers import JsonOutputParser\n",
    "\n",
    "try:\n",
    "    json_parser = JsonOutputParser()\n",
    "    res = json_parser.parse(response.content)\n",
    "except OutputParserException:\n",
    "    raise OutputParserException(\"Context too big. Unable to parse jobs.\")"
   ]
  },
  {
   "cell_type": "code",
   "execution_count": 37,
   "id": "c33067c5-f30a-4c35-a67c-d8ebce1c485a",
   "metadata": {
    "scrolled": true
   },
   "outputs": [
    {
     "data": {
      "text/plain": [
       "[{'id': 206175,\n",
       "  'Primary Text': 'ECU Functioning Range',\n",
       "  'Artifact Type': 'Heading',\n",
       "  'Safety': None,\n",
       "  'Legal': None,\n",
       "  'Domains': None,\n",
       "  'Status': None,\n",
       "  'Review State': None,\n",
       "  'Verification_Criteria': None,\n",
       "  'Verification_Level': None,\n",
       "  'SYS_Verification_Level': None,\n",
       "  'isHeading': True},\n",
       " {'id': 208402,\n",
       "  'Primary Text': \"iPDM ECU's behavior shall be defined based on ...\",\n",
       "  'Artifact Type': 'SYS Requirement',\n",
       "  'Safety': 'ASIL B (D)',\n",
       "  'Legal': False,\n",
       "  'Domains': 'SYS,HW,SW',\n",
       "  'Status': 'accepted',\n",
       "  'Review State': 'pending',\n",
       "  'Verification_Criteria': 'Verify the NORMAL, LOW, OVER voltage scenarios...',\n",
       "  'Verification_Level': None,\n",
       "  'SYS_Verification_Level': 'SYS qual. test',\n",
       "  'isHeading': False},\n",
       " {'id': 347831,\n",
       "  'Primary Text': '----------------------------------------------...',\n",
       "  'Artifact Type': 'SYS Requirement',\n",
       "  'Safety': 'ASIL B (D)',\n",
       "  'Legal': False,\n",
       "  'Domains': 'SYS,HW,SW',\n",
       "  'Status': 'accepted',\n",
       "  'Review State': 'pending',\n",
       "  'Verification_Criteria': 'Verify the ECU working range as per the table',\n",
       "  'Verification_Level': None,\n",
       "  'SYS_Verification_Level': 'SYS qual. test',\n",
       "  'isHeading': False},\n",
       " {'id': 351454,\n",
       "  'Primary Text': 'Normal Voltage:\\r\\niPDM shall provide the full...',\n",
       "  'Artifact Type': 'SYS Requirement',\n",
       "  'Safety': 'ASIL B (D)',\n",
       "  'Legal': False,\n",
       "  'Domains': 'SYS,SW',\n",
       "  'Status': 'accepted',\n",
       "  'Review State': 'pending',\n",
       "  'Verification_Criteria': 'Verify that the iPDM provides full functionality...',\n",
       "  'Verification_Level': None,\n",
       "  'SYS_Verification_Level': 'SYS qual. test',\n",
       "  'isHeading': False},\n",
       " {'id': 351456,\n",
       "  'Primary Text': 'Under Voltage:\\r\\niPDM shall provide the full ...',\n",
       "  'Artifact Type': 'SYS Requirement',\n",
       "  'Safety': 'ASIL B (D)',\n",
       "  'Legal': False,\n",
       "  'Domains': 'SYS,HW,SW',\n",
       "  'Status': 'accepted',\n",
       "  'Review State': 'pending',\n",
       "  'Verification_Criteria': 'Verify the iPDM functionalities during under v...',\n",
       "  'Verification_Level': None,\n",
       "  'SYS_Verification_Level': 'SYS qual. test',\n",
       "  'isHeading': False},\n",
       " {'id': 422904,\n",
       "  'Primary Text': 'If KL30_ALT or KL30_BAT\\xa0< 6.5V, then iPDM shal...',\n",
       "  'Artifact Type': 'SYS Requirement',\n",
       "  'Safety': 'ASIL B (D)',\n",
       "  'Legal': False,\n",
       "  'Domains': 'SYS',\n",
       "  'Status': 'accepted',\n",
       "  'Review State': 'pending',\n",
       "  'Verification_Criteria': 'Verify whether the  DTC_Supply_voltage_below_l...',\n",
       "  'Verification_Level': None,\n",
       "  'SYS_Verification_Level': 'SYS qual. test',\n",
       "  'isHeading': False},\n",
       " {'id': 422905,\n",
       "  'Primary Text': 'If\\xa0KL30_ALT or KL30_BAT >= 7.0V, then iPDM sha...',\n",
       "  'Artifact Type': 'SYS Requirement',\n",
       "  'Safety': 'ASIL B (D)',\n",
       "  'Legal': False,\n",
       "  'Domains': 'SYS',\n",
       "  'Status': 'accepted',\n",
       "  'Review State': 'pending',\n",
       "  'Verification_Criteria': 'Verify whether the  DTC_Supply_voltage_below_l...',\n",
       "  'Verification_Level': None,\n",
       "  'SYS_Verification_Level': 'SYS qual. test',\n",
       "  'isHeading': False},\n",
       " {'id': 351457,\n",
       "  'Primary Text': 'Over Voltage:\\r\\niPDM shall withstand 18V\\xa0from...',\n",
       "  'Artifact Type': 'SYS Requirement',\n",
       "  'Safety': 'ASIL B (D)',\n",
       "  'Legal': False,\n",
       "  'Domains': 'SYS,HW,SW',\n",
       "  'Status': 'accepted',\n",
       "  'Review State': 'pending',\n",
       "  'Verification_Criteria': 'Verify the iPDM functionalities during over vo...',\n",
       "  'Verification_Level': None,\n",
       "  'SYS_Verification_Level': 'SYS qual. test',\n",
       "  'isHeading': False},\n",
       " {'id': 422906,\n",
       "  'Primary Text': 'If the voltage in KL30_ALT is within\\xa016V to 24...',\n",
       "  'Artifact Type': 'SYS Requirement',\n",
       "  'Safety': 'ASIL B (D)',\n",
       "  'Legal': False,\n",
       "  'Domains': 'SYS,HW,SW',\n",
       "  'Status': 'accepted',\n",
       "  'Review State': 'done',\n",
       "  'Verification_Criteria': 'Verify the iPDM functionalities during overvol...',\n",
       "  'Verification_Level': None,\n",
       "  'SYS_Verification_Level': 'SYS qual. test',\n",
       "  'isHeading': False},\n",
       " {'id': 479957,\n",
       "  'Primary Text': 'If the voltage in KL30_ALT is greater than 24V...',\n",
       "  'Artifact Type': 'SYS Requirement',\n",
       "  'Safety': 'ASIL B (D)',\n",
       "  'Legal': False,\n",
       "  'Domains': None,\n",
       "  'Status': 'accepted',\n",
       "  'Review State': None,\n",
       "  'Verification_Criteria': 'Verify the iPDM functionalities during overvol...',\n",
       "  'Verification_Level': None,\n",
       "  'SYS_Verification_Level': 'SYS qual. test',\n",
       "  'isHeading': False},\n",
       " {'id': 422907,\n",
       "  'Primary Text': 'Note: High voltage conditions beyond the load ...',\n",
       "  'Artifact Type': 'Information',\n",
       "  'Safety': None,\n",
       "  'Legal': None,\n",
       "  'Domains': None,\n",
       "  'Status': None,\n",
       "  'Review State': None,\n",
       "  'Verification_Criteria': None,\n",
       "  'Verification_Level': None,\n",
       "  'SYS_Verification_Level': None,\n",
       "  'isHeading': False},\n",
       " {'id': 422911,\n",
       "  'Primary Text': 'If KL30_ALT > 16.5V, then iPDM shall set the D...',\n",
       "  'Artifact Type': 'SYS Requirement',\n",
       "  'Safety': 'ASIL B (D)',\n",
       "  'Legal': False,\n",
       "  'Domains': 'SYS',\n",
       "  'Status': 'accepted',\n",
       "  'Review State': 'pending',\n",
       "  'Verification_Criteria': 'Verify whether the  DTC_Supply_voltage_exceede...',\n",
       "  'Verification_Level': None,\n",
       "  'SYS_Verification_Level': 'SYS qual. test',\n",
       "  'isHeading': False},\n",
       " {'id': 422915,\n",
       "  'Primary Text': 'If KL30_ALT <= 16.0V, then iPDM shall set the ...',\n",
       "  'Artifact Type': 'SYS Requirement',\n",
       "  'Safety': 'ASIL B (D)',\n",
       "  'Legal': False,\n",
       "  'Domains': 'SYS',\n",
       "  'Status': 'accepted',\n",
       "  'Review State': 'pending',\n",
       "  'Verification_Criteria': 'Verify whether the  DTC_Supply_voltage_exceede...',\n",
       "  'Verification_Level': None,\n",
       "  'SYS_Verification_Level': 'SYS qual. test',\n",
       "  'isHeading': False}]"
      ]
     },
     "execution_count": 37,
     "metadata": {},
     "output_type": "execute_result"
    }
   ],
   "source": [
    "res"
   ]
  },
  {
   "cell_type": "code",
   "execution_count": 100,
   "id": "b4cb5b4a-5892-476a-bebd-0e987630e921",
   "metadata": {},
   "outputs": [
    {
     "name": "stdout",
     "output_type": "stream",
     "text": [
      "page_content='{'id': 206175, 'Primary Text': 'ECU Functioning Range', 'Artifact Type': 'Heading', 'Safety': None, 'Legal': None, 'Domains': None, 'Status': None, 'Review State': None, 'Verification_Criteria': None, 'Verification_Level': None, 'SYS_Verification_Level': None, 'isHeading': True}'\n",
      "page_content='{'id': 208402, 'Primary Text': \"iPDM ECU's behavior shall be defined based on ...\", 'Artifact Type': 'SYS Requirement', 'Safety': 'ASIL B (D)', 'Legal': False, 'Domains': 'SYS,HW,SW', 'Status': 'accepted', 'Review State': 'pending', 'Verification_Criteria': 'Verify the NORMAL, LOW, OVER voltage scenarios...', 'Verification_Level': None, 'SYS_Verification_Level': 'SYS qual. test', 'isHeading': False}'\n",
      "page_content='{'id': 347831, 'Primary Text': '----------------------------------------------...', 'Artifact Type': 'SYS Requirement', 'Safety': 'ASIL B (D)', 'Legal': False, 'Domains': 'SYS,HW,SW', 'Status': 'accepted', 'Review State': 'pending', 'Verification_Criteria': 'Verify the ECU working range as per the table', 'Verification_Level': None, 'SYS_Verification_Level': 'SYS qual. test', 'isHeading': False}'\n",
      "page_content='{'id': 351454, 'Primary Text': 'Normal Voltage:\\r\\niPDM shall provide the full...', 'Artifact Type': 'SYS Requirement', 'Safety': 'ASIL B (D)', 'Legal': False, 'Domains': 'SYS,SW', 'Status': 'accepted', 'Review State': 'pending', 'Verification_Criteria': 'Verify that the iPDM provides full functionality...', 'Verification_Level': None, 'SYS_Verification_Level': 'SYS qual. test', 'isHeading': False}'\n",
      "page_content='{'id': 351456, 'Primary Text': 'Under Voltage:\\r\\niPDM shall provide the full ...', 'Artifact Type': 'SYS Requirement', 'Safety': 'ASIL B (D)', 'Legal': False, 'Domains': 'SYS,HW,SW', 'Status': 'accepted', 'Review State': 'pending', 'Verification_Criteria': 'Verify the iPDM functionalities during under v...', 'Verification_Level': None, 'SYS_Verification_Level': 'SYS qual. test', 'isHeading': False}'\n",
      "page_content='{'id': 422904, 'Primary Text': 'If KL30_ALT or KL30_BAT\\xa0< 6.5V, then iPDM shal...', 'Artifact Type': 'SYS Requirement', 'Safety': 'ASIL B (D)', 'Legal': False, 'Domains': 'SYS', 'Status': 'accepted', 'Review State': 'pending', 'Verification_Criteria': 'Verify whether the  DTC_Supply_voltage_below_l...', 'Verification_Level': None, 'SYS_Verification_Level': 'SYS qual. test', 'isHeading': False}'\n",
      "page_content='{'id': 422905, 'Primary Text': 'If\\xa0KL30_ALT or KL30_BAT >= 7.0V, then iPDM sha...', 'Artifact Type': 'SYS Requirement', 'Safety': 'ASIL B (D)', 'Legal': False, 'Domains': 'SYS', 'Status': 'accepted', 'Review State': 'pending', 'Verification_Criteria': 'Verify whether the  DTC_Supply_voltage_below_l...', 'Verification_Level': None, 'SYS_Verification_Level': 'SYS qual. test', 'isHeading': False}'\n",
      "page_content='{'id': 351457, 'Primary Text': 'Over Voltage:\\r\\niPDM shall withstand 18V\\xa0from...', 'Artifact Type': 'SYS Requirement', 'Safety': 'ASIL B (D)', 'Legal': False, 'Domains': 'SYS,HW,SW', 'Status': 'accepted', 'Review State': 'pending', 'Verification_Criteria': 'Verify the iPDM functionalities during over vo...', 'Verification_Level': None, 'SYS_Verification_Level': 'SYS qual. test', 'isHeading': False}'\n",
      "page_content='{'id': 422906, 'Primary Text': 'If the voltage in KL30_ALT is within\\xa016V to 24...', 'Artifact Type': 'SYS Requirement', 'Safety': 'ASIL B (D)', 'Legal': False, 'Domains': 'SYS,HW,SW', 'Status': 'accepted', 'Review State': 'done', 'Verification_Criteria': 'Verify the iPDM functionalities during overvol...', 'Verification_Level': None, 'SYS_Verification_Level': 'SYS qual. test', 'isHeading': False}'\n",
      "page_content='{'id': 479957, 'Primary Text': 'If the voltage in KL30_ALT is greater than 24V...', 'Artifact Type': 'SYS Requirement', 'Safety': 'ASIL B (D)', 'Legal': False, 'Domains': None, 'Status': 'accepted', 'Review State': None, 'Verification_Criteria': 'Verify the iPDM functionalities during overvol...', 'Verification_Level': None, 'SYS_Verification_Level': 'SYS qual. test', 'isHeading': False}'\n",
      "page_content='{'id': 422907, 'Primary Text': 'Note: High voltage conditions beyond the load ...', 'Artifact Type': 'Information', 'Safety': None, 'Legal': None, 'Domains': None, 'Status': None, 'Review State': None, 'Verification_Criteria': None, 'Verification_Level': None, 'SYS_Verification_Level': None, 'isHeading': False}'\n",
      "page_content='{'id': 422911, 'Primary Text': 'If KL30_ALT > 16.5V, then iPDM shall set the D...', 'Artifact Type': 'SYS Requirement', 'Safety': 'ASIL B (D)', 'Legal': False, 'Domains': 'SYS', 'Status': 'accepted', 'Review State': 'pending', 'Verification_Criteria': 'Verify whether the  DTC_Supply_voltage_exceede...', 'Verification_Level': None, 'SYS_Verification_Level': 'SYS qual. test', 'isHeading': False}'\n",
      "page_content='{'id': 422915, 'Primary Text': 'If KL30_ALT <= 16.0V, then iPDM shall set the ...', 'Artifact Type': 'SYS Requirement', 'Safety': 'ASIL B (D)', 'Legal': False, 'Domains': 'SYS', 'Status': 'accepted', 'Review State': 'pending', 'Verification_Criteria': 'Verify whether the  DTC_Supply_voltage_exceede...', 'Verification_Level': None, 'SYS_Verification_Level': 'SYS qual. test', 'isHeading': False}'\n"
     ]
    }
   ],
   "source": [
    "from langchain_core.documents import Document\n",
    "\n",
    "for obj in res:\n",
    "    print(Document(page_content=str(obj)))"
   ]
  },
  {
   "cell_type": "code",
   "execution_count": 77,
   "id": "7575677d-a44f-4f72-b519-6c4f6d718299",
   "metadata": {},
   "outputs": [],
   "source": [
    "import json\n",
    "\n",
    "res_json = json.dumps(res)"
   ]
  },
  {
   "cell_type": "code",
   "execution_count": 78,
   "id": "7c12f46c-5e4b-49b4-a3b8-ce78379767bf",
   "metadata": {},
   "outputs": [
    {
     "data": {
      "text/plain": [
       "str"
      ]
     },
     "execution_count": 78,
     "metadata": {},
     "output_type": "execute_result"
    }
   ],
   "source": [
    "type(res_json)"
   ]
  },
  {
   "cell_type": "code",
   "execution_count": 40,
   "id": "c88828bb-739b-4cc3-a4f7-93192c1c9524",
   "metadata": {},
   "outputs": [],
   "source": [
    "from langchain_huggingface import HuggingFaceEmbeddings\n",
    "\n",
    "embeddings_model = HuggingFaceEmbeddings(model_name=\"sentence-transformers/all-MiniLM-L6-v2\")"
   ]
  },
  {
   "cell_type": "code",
   "execution_count": 41,
   "id": "0536ce49-c8d2-4f3d-9e3d-b1b7de787882",
   "metadata": {},
   "outputs": [],
   "source": [
    "embeddings = embeddings_model.embed_documents(res[1])"
   ]
  },
  {
   "cell_type": "code",
   "execution_count": 55,
   "id": "840ba0a3-53b4-484c-ac8d-8cd6ad21044d",
   "metadata": {},
   "outputs": [],
   "source": [
    "from langchain.schema import Document\n",
    "\n",
    "docs = [Document(page_content=item[\"content\"],\n",
    "                 metadata={\"source\": item[\"source\"]})\n",
    "        for item in res]"
   ]
  },
  {
   "cell_type": "code",
   "execution_count": 102,
   "id": "f5ce3f05-f1e4-49b9-832b-eef5b69f93df",
   "metadata": {},
   "outputs": [],
   "source": [
    "from langchain_core.documents import Document\n",
    "\n",
    "documents = [(Document(page_content=str(obj))) for obj in res]"
   ]
  },
  {
   "cell_type": "code",
   "execution_count": 136,
   "id": "d773993d-56ed-40c8-a6ab-efb2f845b67e",
   "metadata": {},
   "outputs": [
    {
     "data": {
      "text/plain": [
       "[Document(metadata={}, page_content=\"{'id': 206175, 'Primary Text': 'ECU Functioning Range', 'Artifact Type': 'Heading', 'Safety': None, 'Legal': None, 'Domains': None, 'Status': None, 'Review State': None, 'Verification_Criteria': None, 'Verification_Level': None, 'SYS_Verification_Level': None, 'isHeading': True}\"),\n",
       " Document(metadata={}, page_content='{\\'id\\': 208402, \\'Primary Text\\': \"iPDM ECU\\'s behavior shall be defined based on ...\", \\'Artifact Type\\': \\'SYS Requirement\\', \\'Safety\\': \\'ASIL B (D)\\', \\'Legal\\': False, \\'Domains\\': \\'SYS,HW,SW\\', \\'Status\\': \\'accepted\\', \\'Review State\\': \\'pending\\', \\'Verification_Criteria\\': \\'Verify the NORMAL, LOW, OVER voltage scenarios...\\', \\'Verification_Level\\': None, \\'SYS_Verification_Level\\': \\'SYS qual. test\\', \\'isHeading\\': False}'),\n",
       " Document(metadata={}, page_content=\"{'id': 347831, 'Primary Text': '----------------------------------------------...', 'Artifact Type': 'SYS Requirement', 'Safety': 'ASIL B (D)', 'Legal': False, 'Domains': 'SYS,HW,SW', 'Status': 'accepted', 'Review State': 'pending', 'Verification_Criteria': 'Verify the ECU working range as per the table', 'Verification_Level': None, 'SYS_Verification_Level': 'SYS qual. test', 'isHeading': False}\"),\n",
       " Document(metadata={}, page_content=\"{'id': 351454, 'Primary Text': 'Normal Voltage:\\\\r\\\\niPDM shall provide the full...', 'Artifact Type': 'SYS Requirement', 'Safety': 'ASIL B (D)', 'Legal': False, 'Domains': 'SYS,SW', 'Status': 'accepted', 'Review State': 'pending', 'Verification_Criteria': 'Verify that the iPDM provides full functionality...', 'Verification_Level': None, 'SYS_Verification_Level': 'SYS qual. test', 'isHeading': False}\"),\n",
       " Document(metadata={}, page_content=\"{'id': 351456, 'Primary Text': 'Under Voltage:\\\\r\\\\niPDM shall provide the full ...', 'Artifact Type': 'SYS Requirement', 'Safety': 'ASIL B (D)', 'Legal': False, 'Domains': 'SYS,HW,SW', 'Status': 'accepted', 'Review State': 'pending', 'Verification_Criteria': 'Verify the iPDM functionalities during under v...', 'Verification_Level': None, 'SYS_Verification_Level': 'SYS qual. test', 'isHeading': False}\"),\n",
       " Document(metadata={}, page_content=\"{'id': 422904, 'Primary Text': 'If KL30_ALT or KL30_BAT\\\\xa0< 6.5V, then iPDM shal...', 'Artifact Type': 'SYS Requirement', 'Safety': 'ASIL B (D)', 'Legal': False, 'Domains': 'SYS', 'Status': 'accepted', 'Review State': 'pending', 'Verification_Criteria': 'Verify whether the  DTC_Supply_voltage_below_l...', 'Verification_Level': None, 'SYS_Verification_Level': 'SYS qual. test', 'isHeading': False}\"),\n",
       " Document(metadata={}, page_content=\"{'id': 422905, 'Primary Text': 'If\\\\xa0KL30_ALT or KL30_BAT >= 7.0V, then iPDM sha...', 'Artifact Type': 'SYS Requirement', 'Safety': 'ASIL B (D)', 'Legal': False, 'Domains': 'SYS', 'Status': 'accepted', 'Review State': 'pending', 'Verification_Criteria': 'Verify whether the  DTC_Supply_voltage_below_l...', 'Verification_Level': None, 'SYS_Verification_Level': 'SYS qual. test', 'isHeading': False}\"),\n",
       " Document(metadata={}, page_content=\"{'id': 351457, 'Primary Text': 'Over Voltage:\\\\r\\\\niPDM shall withstand 18V\\\\xa0from...', 'Artifact Type': 'SYS Requirement', 'Safety': 'ASIL B (D)', 'Legal': False, 'Domains': 'SYS,HW,SW', 'Status': 'accepted', 'Review State': 'pending', 'Verification_Criteria': 'Verify the iPDM functionalities during over vo...', 'Verification_Level': None, 'SYS_Verification_Level': 'SYS qual. test', 'isHeading': False}\"),\n",
       " Document(metadata={}, page_content=\"{'id': 422906, 'Primary Text': 'If the voltage in KL30_ALT is within\\\\xa016V to 24...', 'Artifact Type': 'SYS Requirement', 'Safety': 'ASIL B (D)', 'Legal': False, 'Domains': 'SYS,HW,SW', 'Status': 'accepted', 'Review State': 'done', 'Verification_Criteria': 'Verify the iPDM functionalities during overvol...', 'Verification_Level': None, 'SYS_Verification_Level': 'SYS qual. test', 'isHeading': False}\"),\n",
       " Document(metadata={}, page_content=\"{'id': 479957, 'Primary Text': 'If the voltage in KL30_ALT is greater than 24V...', 'Artifact Type': 'SYS Requirement', 'Safety': 'ASIL B (D)', 'Legal': False, 'Domains': None, 'Status': 'accepted', 'Review State': None, 'Verification_Criteria': 'Verify the iPDM functionalities during overvol...', 'Verification_Level': None, 'SYS_Verification_Level': 'SYS qual. test', 'isHeading': False}\"),\n",
       " Document(metadata={}, page_content=\"{'id': 422907, 'Primary Text': 'Note: High voltage conditions beyond the load ...', 'Artifact Type': 'Information', 'Safety': None, 'Legal': None, 'Domains': None, 'Status': None, 'Review State': None, 'Verification_Criteria': None, 'Verification_Level': None, 'SYS_Verification_Level': None, 'isHeading': False}\"),\n",
       " Document(metadata={}, page_content=\"{'id': 422911, 'Primary Text': 'If KL30_ALT > 16.5V, then iPDM shall set the D...', 'Artifact Type': 'SYS Requirement', 'Safety': 'ASIL B (D)', 'Legal': False, 'Domains': 'SYS', 'Status': 'accepted', 'Review State': 'pending', 'Verification_Criteria': 'Verify whether the  DTC_Supply_voltage_exceede...', 'Verification_Level': None, 'SYS_Verification_Level': 'SYS qual. test', 'isHeading': False}\"),\n",
       " Document(metadata={}, page_content=\"{'id': 422915, 'Primary Text': 'If KL30_ALT <= 16.0V, then iPDM shall set the ...', 'Artifact Type': 'SYS Requirement', 'Safety': 'ASIL B (D)', 'Legal': False, 'Domains': 'SYS', 'Status': 'accepted', 'Review State': 'pending', 'Verification_Criteria': 'Verify whether the  DTC_Supply_voltage_exceede...', 'Verification_Level': None, 'SYS_Verification_Level': 'SYS qual. test', 'isHeading': False}\")]"
      ]
     },
     "execution_count": 136,
     "metadata": {},
     "output_type": "execute_result"
    }
   ],
   "source": [
    "documents"
   ]
  },
  {
   "cell_type": "code",
   "execution_count": 198,
   "id": "ef8ad93f-6593-4e53-bb79-9c1b083c1ae6",
   "metadata": {},
   "outputs": [],
   "source": [
    "import uuid\n",
    "from langchain_chroma import Chroma\n",
    "\n",
    "# ids = [str(uuid.uuid4()) for _ in range(len(documents))] \n",
    "\n",
    "unique_collection_name = f\"collection_{uuid.uuid4()}\"\n",
    "\n",
    "db = Chroma.from_documents(documents, embeddings_model, ids=ids, collection_name=unique_collection_name)"
   ]
  },
  {
   "cell_type": "code",
   "execution_count": 219,
   "id": "bf025b28-7b03-4e23-bf38-aa3ff36f310f",
   "metadata": {
    "scrolled": true
   },
   "outputs": [
    {
     "data": {
      "text/plain": [
       "[\"{'id': 206175, 'Primary Text': 'ECU Functioning Range', 'Artifact Type': 'Heading', 'Safety': None, 'Legal': None, 'Domains': None, 'Status': None, 'Review State': None, 'Verification_Criteria': None, 'Verification_Level': None, 'SYS_Verification_Level': None, 'isHeading': True}\",\n",
       " '{\\'id\\': 208402, \\'Primary Text\\': \"iPDM ECU\\'s behavior shall be defined based on ...\", \\'Artifact Type\\': \\'SYS Requirement\\', \\'Safety\\': \\'ASIL B (D)\\', \\'Legal\\': False, \\'Domains\\': \\'SYS,HW,SW\\', \\'Status\\': \\'accepted\\', \\'Review State\\': \\'pending\\', \\'Verification_Criteria\\': \\'Verify the NORMAL, LOW, OVER voltage scenarios...\\', \\'Verification_Level\\': None, \\'SYS_Verification_Level\\': \\'SYS qual. test\\', \\'isHeading\\': False}',\n",
       " \"{'id': 347831, 'Primary Text': '----------------------------------------------...', 'Artifact Type': 'SYS Requirement', 'Safety': 'ASIL B (D)', 'Legal': False, 'Domains': 'SYS,HW,SW', 'Status': 'accepted', 'Review State': 'pending', 'Verification_Criteria': 'Verify the ECU working range as per the table', 'Verification_Level': None, 'SYS_Verification_Level': 'SYS qual. test', 'isHeading': False}\",\n",
       " \"{'id': 351454, 'Primary Text': 'Normal Voltage:\\\\r\\\\niPDM shall provide the full...', 'Artifact Type': 'SYS Requirement', 'Safety': 'ASIL B (D)', 'Legal': False, 'Domains': 'SYS,SW', 'Status': 'accepted', 'Review State': 'pending', 'Verification_Criteria': 'Verify that the iPDM provides full functionality...', 'Verification_Level': None, 'SYS_Verification_Level': 'SYS qual. test', 'isHeading': False}\",\n",
       " \"{'id': 351456, 'Primary Text': 'Under Voltage:\\\\r\\\\niPDM shall provide the full ...', 'Artifact Type': 'SYS Requirement', 'Safety': 'ASIL B (D)', 'Legal': False, 'Domains': 'SYS,HW,SW', 'Status': 'accepted', 'Review State': 'pending', 'Verification_Criteria': 'Verify the iPDM functionalities during under v...', 'Verification_Level': None, 'SYS_Verification_Level': 'SYS qual. test', 'isHeading': False}\",\n",
       " \"{'id': 422904, 'Primary Text': 'If KL30_ALT or KL30_BAT\\\\xa0< 6.5V, then iPDM shal...', 'Artifact Type': 'SYS Requirement', 'Safety': 'ASIL B (D)', 'Legal': False, 'Domains': 'SYS', 'Status': 'accepted', 'Review State': 'pending', 'Verification_Criteria': 'Verify whether the  DTC_Supply_voltage_below_l...', 'Verification_Level': None, 'SYS_Verification_Level': 'SYS qual. test', 'isHeading': False}\",\n",
       " \"{'id': 422905, 'Primary Text': 'If\\\\xa0KL30_ALT or KL30_BAT >= 7.0V, then iPDM sha...', 'Artifact Type': 'SYS Requirement', 'Safety': 'ASIL B (D)', 'Legal': False, 'Domains': 'SYS', 'Status': 'accepted', 'Review State': 'pending', 'Verification_Criteria': 'Verify whether the  DTC_Supply_voltage_below_l...', 'Verification_Level': None, 'SYS_Verification_Level': 'SYS qual. test', 'isHeading': False}\",\n",
       " \"{'id': 351457, 'Primary Text': 'Over Voltage:\\\\r\\\\niPDM shall withstand 18V\\\\xa0from...', 'Artifact Type': 'SYS Requirement', 'Safety': 'ASIL B (D)', 'Legal': False, 'Domains': 'SYS,HW,SW', 'Status': 'accepted', 'Review State': 'pending', 'Verification_Criteria': 'Verify the iPDM functionalities during over vo...', 'Verification_Level': None, 'SYS_Verification_Level': 'SYS qual. test', 'isHeading': False}\",\n",
       " \"{'id': 422906, 'Primary Text': 'If the voltage in KL30_ALT is within\\\\xa016V to 24...', 'Artifact Type': 'SYS Requirement', 'Safety': 'ASIL B (D)', 'Legal': False, 'Domains': 'SYS,HW,SW', 'Status': 'accepted', 'Review State': 'done', 'Verification_Criteria': 'Verify the iPDM functionalities during overvol...', 'Verification_Level': None, 'SYS_Verification_Level': 'SYS qual. test', 'isHeading': False}\",\n",
       " \"{'id': 479957, 'Primary Text': 'If the voltage in KL30_ALT is greater than 24V...', 'Artifact Type': 'SYS Requirement', 'Safety': 'ASIL B (D)', 'Legal': False, 'Domains': None, 'Status': 'accepted', 'Review State': None, 'Verification_Criteria': 'Verify the iPDM functionalities during overvol...', 'Verification_Level': None, 'SYS_Verification_Level': 'SYS qual. test', 'isHeading': False}\",\n",
       " \"{'id': 422907, 'Primary Text': 'Note: High voltage conditions beyond the load ...', 'Artifact Type': 'Information', 'Safety': None, 'Legal': None, 'Domains': None, 'Status': None, 'Review State': None, 'Verification_Criteria': None, 'Verification_Level': None, 'SYS_Verification_Level': None, 'isHeading': False}\",\n",
       " \"{'id': 422911, 'Primary Text': 'If KL30_ALT > 16.5V, then iPDM shall set the D...', 'Artifact Type': 'SYS Requirement', 'Safety': 'ASIL B (D)', 'Legal': False, 'Domains': 'SYS', 'Status': 'accepted', 'Review State': 'pending', 'Verification_Criteria': 'Verify whether the  DTC_Supply_voltage_exceede...', 'Verification_Level': None, 'SYS_Verification_Level': 'SYS qual. test', 'isHeading': False}\",\n",
       " \"{'id': 422915, 'Primary Text': 'If KL30_ALT <= 16.0V, then iPDM shall set the ...', 'Artifact Type': 'SYS Requirement', 'Safety': 'ASIL B (D)', 'Legal': False, 'Domains': 'SYS', 'Status': 'accepted', 'Review State': 'pending', 'Verification_Criteria': 'Verify whether the  DTC_Supply_voltage_exceede...', 'Verification_Level': None, 'SYS_Verification_Level': 'SYS qual. test', 'isHeading': False}\"]"
      ]
     },
     "execution_count": 219,
     "metadata": {},
     "output_type": "execute_result"
    }
   ],
   "source": [
    "all_documents = db.get()[\"documents\"]\n",
    "all_documents"
   ]
  },
  {
   "cell_type": "code",
   "execution_count": 232,
   "id": "c7d776e3-bef9-4177-8b07-cf1375a03737",
   "metadata": {},
   "outputs": [],
   "source": [
    "import re\n",
    "\n",
    "for items in all_documents:\n",
    "    re.sub(r'[\\\\n]', '\\n', items)"
   ]
  },
  {
   "cell_type": "code",
   "execution_count": 236,
   "id": "e7997429-cdd0-4ecd-8dc3-d7d66fc92670",
   "metadata": {
    "scrolled": true
   },
   "outputs": [
    {
     "data": {
      "text/plain": [
       "[\"{'id': 206175, 'Primary Text': 'ECU Functioning Range', 'Artifact Type': 'Heading', 'Safety': None, 'Legal': None, 'Domains': None, 'Status': None, 'Review State': None, 'Verification_Criteria': None, 'Verification_Level': None, 'SYS_Verification_Level': None, 'isHeading': True}\",\n",
       " '{\\'id\\': 208402, \\'Primary Text\\': \"iPDM ECU\\'s behavior shall be defined based on ...\", \\'Artifact Type\\': \\'SYS Requirement\\', \\'Safety\\': \\'ASIL B (D)\\', \\'Legal\\': False, \\'Domains\\': \\'SYS,HW,SW\\', \\'Status\\': \\'accepted\\', \\'Review State\\': \\'pending\\', \\'Verification_Criteria\\': \\'Verify the NORMAL, LOW, OVER voltage scenarios...\\', \\'Verification_Level\\': None, \\'SYS_Verification_Level\\': \\'SYS qual. test\\', \\'isHeading\\': False}',\n",
       " \"{'id': 347831, 'Primary Text': '----------------------------------------------...', 'Artifact Type': 'SYS Requirement', 'Safety': 'ASIL B (D)', 'Legal': False, 'Domains': 'SYS,HW,SW', 'Status': 'accepted', 'Review State': 'pending', 'Verification_Criteria': 'Verify the ECU working range as per the table', 'Verification_Level': None, 'SYS_Verification_Level': 'SYS qual. test', 'isHeading': False}\",\n",
       " \"{'id': 351454, 'Primary Text': 'Normal Voltage:\\\\r\\\\niPDM shall provide the full...', 'Artifact Type': 'SYS Requirement', 'Safety': 'ASIL B (D)', 'Legal': False, 'Domains': 'SYS,SW', 'Status': 'accepted', 'Review State': 'pending', 'Verification_Criteria': 'Verify that the iPDM provides full functionality...', 'Verification_Level': None, 'SYS_Verification_Level': 'SYS qual. test', 'isHeading': False}\",\n",
       " \"{'id': 351456, 'Primary Text': 'Under Voltage:\\\\r\\\\niPDM shall provide the full ...', 'Artifact Type': 'SYS Requirement', 'Safety': 'ASIL B (D)', 'Legal': False, 'Domains': 'SYS,HW,SW', 'Status': 'accepted', 'Review State': 'pending', 'Verification_Criteria': 'Verify the iPDM functionalities during under v...', 'Verification_Level': None, 'SYS_Verification_Level': 'SYS qual. test', 'isHeading': False}\",\n",
       " \"{'id': 422904, 'Primary Text': 'If KL30_ALT or KL30_BAT\\\\xa0< 6.5V, then iPDM shal...', 'Artifact Type': 'SYS Requirement', 'Safety': 'ASIL B (D)', 'Legal': False, 'Domains': 'SYS', 'Status': 'accepted', 'Review State': 'pending', 'Verification_Criteria': 'Verify whether the  DTC_Supply_voltage_below_l...', 'Verification_Level': None, 'SYS_Verification_Level': 'SYS qual. test', 'isHeading': False}\",\n",
       " \"{'id': 422905, 'Primary Text': 'If\\\\xa0KL30_ALT or KL30_BAT >= 7.0V, then iPDM sha...', 'Artifact Type': 'SYS Requirement', 'Safety': 'ASIL B (D)', 'Legal': False, 'Domains': 'SYS', 'Status': 'accepted', 'Review State': 'pending', 'Verification_Criteria': 'Verify whether the  DTC_Supply_voltage_below_l...', 'Verification_Level': None, 'SYS_Verification_Level': 'SYS qual. test', 'isHeading': False}\",\n",
       " \"{'id': 351457, 'Primary Text': 'Over Voltage:\\\\r\\\\niPDM shall withstand 18V\\\\xa0from...', 'Artifact Type': 'SYS Requirement', 'Safety': 'ASIL B (D)', 'Legal': False, 'Domains': 'SYS,HW,SW', 'Status': 'accepted', 'Review State': 'pending', 'Verification_Criteria': 'Verify the iPDM functionalities during over vo...', 'Verification_Level': None, 'SYS_Verification_Level': 'SYS qual. test', 'isHeading': False}\",\n",
       " \"{'id': 422906, 'Primary Text': 'If the voltage in KL30_ALT is within\\\\xa016V to 24...', 'Artifact Type': 'SYS Requirement', 'Safety': 'ASIL B (D)', 'Legal': False, 'Domains': 'SYS,HW,SW', 'Status': 'accepted', 'Review State': 'done', 'Verification_Criteria': 'Verify the iPDM functionalities during overvol...', 'Verification_Level': None, 'SYS_Verification_Level': 'SYS qual. test', 'isHeading': False}\",\n",
       " \"{'id': 479957, 'Primary Text': 'If the voltage in KL30_ALT is greater than 24V...', 'Artifact Type': 'SYS Requirement', 'Safety': 'ASIL B (D)', 'Legal': False, 'Domains': None, 'Status': 'accepted', 'Review State': None, 'Verification_Criteria': 'Verify the iPDM functionalities during overvol...', 'Verification_Level': None, 'SYS_Verification_Level': 'SYS qual. test', 'isHeading': False}\",\n",
       " \"{'id': 422907, 'Primary Text': 'Note: High voltage conditions beyond the load ...', 'Artifact Type': 'Information', 'Safety': None, 'Legal': None, 'Domains': None, 'Status': None, 'Review State': None, 'Verification_Criteria': None, 'Verification_Level': None, 'SYS_Verification_Level': None, 'isHeading': False}\",\n",
       " \"{'id': 422911, 'Primary Text': 'If KL30_ALT > 16.5V, then iPDM shall set the D...', 'Artifact Type': 'SYS Requirement', 'Safety': 'ASIL B (D)', 'Legal': False, 'Domains': 'SYS', 'Status': 'accepted', 'Review State': 'pending', 'Verification_Criteria': 'Verify whether the  DTC_Supply_voltage_exceede...', 'Verification_Level': None, 'SYS_Verification_Level': 'SYS qual. test', 'isHeading': False}\",\n",
       " \"{'id': 422915, 'Primary Text': 'If KL30_ALT <= 16.0V, then iPDM shall set the ...', 'Artifact Type': 'SYS Requirement', 'Safety': 'ASIL B (D)', 'Legal': False, 'Domains': 'SYS', 'Status': 'accepted', 'Review State': 'pending', 'Verification_Criteria': 'Verify whether the  DTC_Supply_voltage_exceede...', 'Verification_Level': None, 'SYS_Verification_Level': 'SYS qual. test', 'isHeading': False}\"]"
      ]
     },
     "execution_count": 236,
     "metadata": {},
     "output_type": "execute_result"
    }
   ],
   "source": [
    "all_documents"
   ]
  },
  {
   "cell_type": "code",
   "execution_count": 205,
   "id": "74b76908-256b-4cf1-9d00-cb68dee8aaa5",
   "metadata": {},
   "outputs": [
    {
     "data": {
      "text/plain": [
       "str"
      ]
     },
     "execution_count": 205,
     "metadata": {},
     "output_type": "execute_result"
    }
   ],
   "source": [
    "type(all_documents[0])"
   ]
  },
  {
   "cell_type": "code",
   "execution_count": 235,
   "id": "0dc7158e-77cd-4a8f-9315-9c8b6840d04d",
   "metadata": {
    "scrolled": true
   },
   "outputs": [
    {
     "name": "stdout",
     "output_type": "stream",
     "text": [
      "('[\"{\\'id\\': 206175, \\'Primary Text\\': \\'ECU Functioning Range\\', \\'Artifact '\n",
      " \"Type': 'Heading', 'Safety': None, 'Legal': None, 'Domains': None, 'Status': \"\n",
      " \"None, 'Review State': None, 'Verification_Criteria': None, \"\n",
      " \"'Verification_Level': None, 'SYS_Verification_Level': None, 'isHeading': \"\n",
      " 'True}\", \"{\\'id\\': 208402, \\'Primary Text\\': \\\\\"iPDM ECU\\'s behavior shall be '\n",
      " 'defined based on ...\\\\\", \\'Artifact Type\\': \\'SYS Requirement\\', \\'Safety\\': '\n",
      " \"'ASIL B (D)', 'Legal': False, 'Domains': 'SYS,HW,SW', 'Status': 'accepted', \"\n",
      " \"'Review State': 'pending', 'Verification_Criteria': 'Verify the NORMAL, LOW, \"\n",
      " \"OVER voltage scenarios...', 'Verification_Level': None, \"\n",
      " '\\'SYS_Verification_Level\\': \\'SYS qual. test\\', \\'isHeading\\': False}\", '\n",
      " '\"{\\'id\\': 347831, \\'Primary Text\\': '\n",
      " \"'----------------------------------------------...', 'Artifact Type': 'SYS \"\n",
      " \"Requirement', 'Safety': 'ASIL B (D)', 'Legal': False, 'Domains': \"\n",
      " \"'SYS,HW,SW', 'Status': 'accepted', 'Review State': 'pending', \"\n",
      " \"'Verification_Criteria': 'Verify the ECU working range as per the table', \"\n",
      " \"'Verification_Level': None, 'SYS_Verification_Level': 'SYS qual. test', \"\n",
      " '\\'isHeading\\': False}\", \"{\\'id\\': 351454, \\'Primary Text\\': \\'Normal '\n",
      " \"Voltage:\\\\\\\\r\\\\\\\\niPDM shall provide the full...', 'Artifact Type': 'SYS \"\n",
      " \"Requirement', 'Safety': 'ASIL B (D)', 'Legal': False, 'Domains': 'SYS,SW', \"\n",
      " \"'Status': 'accepted', 'Review State': 'pending', 'Verification_Criteria': \"\n",
      " \"'Verify that the iPDM provides full functionality...', 'Verification_Level': \"\n",
      " \"None, 'SYS_Verification_Level': 'SYS qual. test', 'isHeading': \"\n",
      " 'False}\", \"{\\'id\\': 351456, \\'Primary Text\\': \\'Under Voltage:\\\\\\\\r\\\\\\\\niPDM '\n",
      " \"shall provide the full ...', 'Artifact Type': 'SYS Requirement', 'Safety': \"\n",
      " \"'ASIL B (D)', 'Legal': False, 'Domains': 'SYS,HW,SW', 'Status': 'accepted', \"\n",
      " \"'Review State': 'pending', 'Verification_Criteria': 'Verify the iPDM \"\n",
      " \"functionalities during under v...', 'Verification_Level': None, \"\n",
      " '\\'SYS_Verification_Level\\': \\'SYS qual. test\\', \\'isHeading\\': False}\", '\n",
      " '\"{\\'id\\': 422904, \\'Primary Text\\': \\'If KL30_ALT or KL30_BAT\\\\\\\\xa0< 6.5V, '\n",
      " \"then iPDM shal...', 'Artifact Type': 'SYS Requirement', 'Safety': 'ASIL B \"\n",
      " \"(D)', 'Legal': False, 'Domains': 'SYS', 'Status': 'accepted', 'Review \"\n",
      " \"State': 'pending', 'Verification_Criteria': 'Verify whether the  \"\n",
      " \"DTC_Supply_voltage_below_l...', 'Verification_Level': None, \"\n",
      " '\\'SYS_Verification_Level\\': \\'SYS qual. test\\', \\'isHeading\\': False}\", '\n",
      " '\"{\\'id\\': 422905, \\'Primary Text\\': \\'If\\\\\\\\xa0KL30_ALT or KL30_BAT >= 7.0V, '\n",
      " \"then iPDM sha...', 'Artifact Type': 'SYS Requirement', 'Safety': 'ASIL B \"\n",
      " \"(D)', 'Legal': False, 'Domains': 'SYS', 'Status': 'accepted', 'Review \"\n",
      " \"State': 'pending', 'Verification_Criteria': 'Verify whether the  \"\n",
      " \"DTC_Supply_voltage_below_l...', 'Verification_Level': None, \"\n",
      " '\\'SYS_Verification_Level\\': \\'SYS qual. test\\', \\'isHeading\\': False}\", '\n",
      " '\"{\\'id\\': 351457, \\'Primary Text\\': \\'Over Voltage:\\\\\\\\r\\\\\\\\niPDM shall '\n",
      " \"withstand 18V\\\\\\\\xa0from...', 'Artifact Type': 'SYS Requirement', 'Safety': \"\n",
      " \"'ASIL B (D)', 'Legal': False, 'Domains': 'SYS,HW,SW', 'Status': 'accepted', \"\n",
      " \"'Review State': 'pending', 'Verification_Criteria': 'Verify the iPDM \"\n",
      " \"functionalities during over vo...', 'Verification_Level': None, \"\n",
      " '\\'SYS_Verification_Level\\': \\'SYS qual. test\\', \\'isHeading\\': False}\", '\n",
      " '\"{\\'id\\': 422906, \\'Primary Text\\': \\'If the voltage in KL30_ALT is '\n",
      " \"within\\\\\\\\xa016V to 24...', 'Artifact Type': 'SYS Requirement', 'Safety': \"\n",
      " \"'ASIL B (D)', 'Legal': False, 'Domains': 'SYS,HW,SW', 'Status': 'accepted', \"\n",
      " \"'Review State': 'done', 'Verification_Criteria': 'Verify the iPDM \"\n",
      " \"functionalities during overvol...', 'Verification_Level': None, \"\n",
      " '\\'SYS_Verification_Level\\': \\'SYS qual. test\\', \\'isHeading\\': False}\", '\n",
      " '\"{\\'id\\': 479957, \\'Primary Text\\': \\'If the voltage in KL30_ALT is greater '\n",
      " \"than 24V...', 'Artifact Type': 'SYS Requirement', 'Safety': 'ASIL B (D)', \"\n",
      " \"'Legal': False, 'Domains': None, 'Status': 'accepted', 'Review State': None, \"\n",
      " \"'Verification_Criteria': 'Verify the iPDM functionalities during \"\n",
      " \"overvol...', 'Verification_Level': None, 'SYS_Verification_Level': 'SYS \"\n",
      " 'qual. test\\', \\'isHeading\\': False}\", \"{\\'id\\': 422907, \\'Primary Text\\': '\n",
      " \"'Note: High voltage conditions beyond the load ...', 'Artifact Type': \"\n",
      " \"'Information', 'Safety': None, 'Legal': None, 'Domains': None, 'Status': \"\n",
      " \"None, 'Review State': None, 'Verification_Criteria': None, \"\n",
      " \"'Verification_Level': None, 'SYS_Verification_Level': None, 'isHeading': \"\n",
      " 'False}\", \"{\\'id\\': 422911, \\'Primary Text\\': \\'If KL30_ALT > 16.5V, then '\n",
      " \"iPDM shall set the D...', 'Artifact Type': 'SYS Requirement', 'Safety': \"\n",
      " \"'ASIL B (D)', 'Legal': False, 'Domains': 'SYS', 'Status': 'accepted', \"\n",
      " \"'Review State': 'pending', 'Verification_Criteria': 'Verify whether the  \"\n",
      " \"DTC_Supply_voltage_exceede...', 'Verification_Level': None, \"\n",
      " '\\'SYS_Verification_Level\\': \\'SYS qual. test\\', \\'isHeading\\': False}\", '\n",
      " '\"{\\'id\\': 422915, \\'Primary Text\\': \\'If KL30_ALT <= 16.0V, then iPDM shall '\n",
      " \"set the ...', 'Artifact Type': 'SYS Requirement', 'Safety': 'ASIL B (D)', \"\n",
      " \"'Legal': False, 'Domains': 'SYS', 'Status': 'accepted', 'Review State': \"\n",
      " \"'pending', 'Verification_Criteria': 'Verify whether the  \"\n",
      " \"DTC_Supply_voltage_exceede...', 'Verification_Level': None, \"\n",
      " '\\'SYS_Verification_Level\\': \\'SYS qual. test\\', \\'isHeading\\': False}\"]')\n"
     ]
    }
   ],
   "source": [
    "from pprint import pprint\n",
    "\n",
    "res_json = json.dumps(all_documents)\n",
    "pprint(res_json)"
   ]
  },
  {
   "cell_type": "code",
   "execution_count": 210,
   "id": "acbc8d3e-d907-4813-aed3-3a92b088070d",
   "metadata": {},
   "outputs": [
    {
     "data": {
      "text/plain": [
       "str"
      ]
     },
     "execution_count": 210,
     "metadata": {},
     "output_type": "execute_result"
    }
   ],
   "source": [
    "type(res_json)"
   ]
  },
  {
   "cell_type": "code",
   "execution_count": 202,
   "id": "555c5aa2-ca3b-47e9-84be-c25b9b022b79",
   "metadata": {},
   "outputs": [
    {
     "data": {
      "text/plain": [
       "[Document(metadata={}, page_content=\"{'id': 479957, 'Primary Text': 'If the voltage in KL30_ALT is greater than 24V...', 'Artifact Type': 'SYS Requirement', 'Safety': 'ASIL B (D)', 'Legal': False, 'Domains': None, 'Status': 'accepted', 'Review State': None, 'Verification_Criteria': 'Verify the iPDM functionalities during overvol...', 'Verification_Level': None, 'SYS_Verification_Level': 'SYS qual. test', 'isHeading': False}\"),\n",
       " Document(metadata={}, page_content=\"{'id': 351457, 'Primary Text': 'Over Voltage:\\\\r\\\\niPDM shall withstand 18V\\\\xa0from...', 'Artifact Type': 'SYS Requirement', 'Safety': 'ASIL B (D)', 'Legal': False, 'Domains': 'SYS,HW,SW', 'Status': 'accepted', 'Review State': 'pending', 'Verification_Criteria': 'Verify the iPDM functionalities during over vo...', 'Verification_Level': None, 'SYS_Verification_Level': 'SYS qual. test', 'isHeading': False}\"),\n",
       " Document(metadata={}, page_content=\"{'id': 422907, 'Primary Text': 'Note: High voltage conditions beyond the load ...', 'Artifact Type': 'Information', 'Safety': None, 'Legal': None, 'Domains': None, 'Status': None, 'Review State': None, 'Verification_Criteria': None, 'Verification_Level': None, 'SYS_Verification_Level': None, 'isHeading': False}\"),\n",
       " Document(metadata={}, page_content=\"{'id': 351456, 'Primary Text': 'Under Voltage:\\\\r\\\\niPDM shall provide the full ...', 'Artifact Type': 'SYS Requirement', 'Safety': 'ASIL B (D)', 'Legal': False, 'Domains': 'SYS,HW,SW', 'Status': 'accepted', 'Review State': 'pending', 'Verification_Criteria': 'Verify the iPDM functionalities during under v...', 'Verification_Level': None, 'SYS_Verification_Level': 'SYS qual. test', 'isHeading': False}\")]"
      ]
     },
     "execution_count": 202,
     "metadata": {},
     "output_type": "execute_result"
    }
   ],
   "source": [
    "query = \"Fetch undervoltage content\"\n",
    "\n",
    "docs = db.similarity_search(query)\n",
    "docs\n",
    "\n",
    "# embedding_vector = embeddings_modelkliop.embed_query(query)\n",
    "# docs = db.similarity_search_by_vector(embedding_vector)\n",
    "# print(docs[0].page_content)"
   ]
  },
  {
   "cell_type": "code",
   "execution_count": 207,
   "id": "73365537-bb0e-4809-b32d-5c4a800dee2e",
   "metadata": {},
   "outputs": [],
   "source": [
    "retriever = db.as_retriever()"
   ]
  },
  {
   "cell_type": "code",
   "execution_count": 208,
   "id": "804cc3cd-a0e2-4939-a570-77971b7cffcc",
   "metadata": {},
   "outputs": [
    {
     "data": {
      "text/plain": [
       "[Document(metadata={}, page_content=\"{'id': 206175, 'Primary Text': 'ECU Functioning Range', 'Artifact Type': 'Heading', 'Safety': None, 'Legal': None, 'Domains': None, 'Status': None, 'Review State': None, 'Verification_Criteria': None, 'Verification_Level': None, 'SYS_Verification_Level': None, 'isHeading': True}\"),\n",
       " Document(metadata={}, page_content=\"{'id': 351454, 'Primary Text': 'Normal Voltage:\\\\r\\\\niPDM shall provide the full...', 'Artifact Type': 'SYS Requirement', 'Safety': 'ASIL B (D)', 'Legal': False, 'Domains': 'SYS,SW', 'Status': 'accepted', 'Review State': 'pending', 'Verification_Criteria': 'Verify that the iPDM provides full functionality...', 'Verification_Level': None, 'SYS_Verification_Level': 'SYS qual. test', 'isHeading': False}\"),\n",
       " Document(metadata={}, page_content=\"{'id': 351456, 'Primary Text': 'Under Voltage:\\\\r\\\\niPDM shall provide the full ...', 'Artifact Type': 'SYS Requirement', 'Safety': 'ASIL B (D)', 'Legal': False, 'Domains': 'SYS,HW,SW', 'Status': 'accepted', 'Review State': 'pending', 'Verification_Criteria': 'Verify the iPDM functionalities during under v...', 'Verification_Level': None, 'SYS_Verification_Level': 'SYS qual. test', 'isHeading': False}\"),\n",
       " Document(metadata={}, page_content=\"{'id': 422907, 'Primary Text': 'Note: High voltage conditions beyond the load ...', 'Artifact Type': 'Information', 'Safety': None, 'Legal': None, 'Domains': None, 'Status': None, 'Review State': None, 'Verification_Criteria': None, 'Verification_Level': None, 'SYS_Verification_Level': None, 'isHeading': False}\")]"
      ]
     },
     "execution_count": 208,
     "metadata": {},
     "output_type": "execute_result"
    }
   ],
   "source": [
    "docs = retriever.invoke(\"Fetch all contents\")\n",
    "docs"
   ]
  },
  {
   "cell_type": "code",
   "execution_count": 297,
   "id": "0eda79d5-ba86-4e81-b446-cea49e6544a3",
   "metadata": {},
   "outputs": [],
   "source": [
    "from langchain.prompts import PromptTemplate\n",
    "\n",
    "template = ''' You are a test case generation assistant who will create test cases for system requirements of automotive applications. The requirements are stored in a vector store and provided to you in JSON object format.\n",
    "Your task is to analyze a JSON object that contains various requirement details and generate relevant test cases based on certain conditions. Specifically, you should:\n",
    "    Analyze the JSON Object:\n",
    "        The input JSON structure contains keys such as 'Artifact Type', 'Verification_Criteria', 'Primary text' and so on.\n",
    "        If only 'Artifact Type' is 'SYS Requirement', you should proceed with generating test cases based on the provided information or just skip  generating test case.\n",
    "\n",
    "    Generate Test Cases:\n",
    "        Extract the 'Primary text' and understand its context.\n",
    "        Include relevant information from other attributes (e.g., Verification_Criteria) to provide context or enhance the test case details.\n",
    "        Create test cases which will validate / verify the functionality mentioned in the 'Primary text'.\n",
    "        Ensure the test cases cover edge cases, negative scenarios, and expected outcomes.\n",
    "        You can generate n number of test cases for each 'Primary text' if required.\n",
    "        The test cases should be structured, clear, and cover all possible validation scenarios as derived from the input.\n",
    "\n",
    "    Output Requirements:\n",
    "        The test case should be specific to the requirement described in the JSON object and must validate the system's behavior aligned with the requirement.\n",
    "        Test cases should include clear Test Case ID(interger number followed by TC), Requirement covered(\"id\" from input JSON object), objective, Pre-condition, steps for validation, expected results, and any necessary edge cases or exceptions.\n",
    "\n",
    "If any part of the input is ambiguous, suggest potential clarifications.\n",
    "\n",
    "Example JSON Input:\n",
    "\n",
    "{{\n",
    "  \"id\": 422911, \"Primary Text\": \"If KL30_ALT > 16.5V, then iPDM shall set the DTC_Supply_voltage_exceeded flag.\",\n",
    "  \"Artifact Type\": \"SYS Requirement\",\n",
    "  \"Safety\": \"ASIL B (D)\",\n",
    "  \"Legal\": false,\n",
    "  \"Domains\": \"SYS\",\n",
    "  \"Status\": \"accepted\",\n",
    "  \"Review State\": \"pending\",\n",
    "  \"Verification_Criteria\": \"Verify whether the DTC_Supply_voltage_exceeded flag is set when KL30_ALT exceeds 16.5V.\",\n",
    "  \"Verification_Level\": null,\n",
    "  \"SYS_Verification_Level\": \"SYS qual. test\",\n",
    "  \"isHeading\": false\n",
    "}}\n",
    "\n",
    "Expected Output:\n",
    "\n",
    "    Test Case ID: TC1\n",
    "    Requirement Covered: 422911\n",
    "    Objective: Validate that the DTC_Supply_voltage_exceeded flag is set when KL30_ALT exceeds 16.5V.\n",
    "    Pre-conditions:\n",
    "    The system is powered on and operational.\n",
    "    KL30_ALT voltage monitoring is active.\n",
    "    Steps to Execute:\n",
    "    1. Set the KL30_ALT voltage to 16V using a test tool.\n",
    "    2. Read system fault memory.\n",
    "    3. Set the KL30_ALT voltage to 16.6V using a test tool.\n",
    "    4. Read system fault memory.\n",
    "    Expected Results: \n",
    "    1. KL30_ALT voltage set to 16V.\n",
    "    2. DTC_Supply_voltage_exceeded flag should not set.\n",
    "    3. KL30_ALT voltage set to 16.6V\n",
    "    4. DTC_Supply_voltage_exceeded flag should set. \n",
    "\n",
    "You should generate the valid test cases for all the individual documents in vector store.\n",
    "Provide the response without any additional information and print the generated test cases in tabular form with column headers as  Test Case ID, Requirement Covered, Objective, Pre-conditions, Steps to Execute and Expected Results. \n",
    "\n",
    "### No Preamble ###\n",
    "        \n",
    "Here is the vector store on which you need to perform this task:  \n",
    "{vector_store}\n",
    "'''\n",
    "\n",
    "pt_testcase = PromptTemplate.from_template(template=template, input_varible=[\"vector_store\"])"
   ]
  },
  {
   "cell_type": "code",
   "execution_count": 298,
   "id": "f1d65ff0-4f26-40b4-9e26-b53421ff95c1",
   "metadata": {},
   "outputs": [],
   "source": [
    "chain = pt_testcase | llm\n",
    "response = chain.invoke(input={\"vector_store\": all_documents})"
   ]
  },
  {
   "cell_type": "code",
   "execution_count": 300,
   "id": "a9d27e2b-db1f-4302-808a-2389fc4c7eeb",
   "metadata": {},
   "outputs": [],
   "source": [
    "lines = result.strip().split(\"\\n\")"
   ]
  },
  {
   "cell_type": "code",
   "execution_count": 302,
   "id": "cfa5ccd0-3b55-4750-a724-b9eb4c4eb6cf",
   "metadata": {
    "scrolled": true
   },
   "outputs": [
    {
     "data": {
      "text/html": [
       "<div>\n",
       "<style scoped>\n",
       "    .dataframe tbody tr th:only-of-type {\n",
       "        vertical-align: middle;\n",
       "    }\n",
       "\n",
       "    .dataframe tbody tr th {\n",
       "        vertical-align: top;\n",
       "    }\n",
       "\n",
       "    .dataframe thead th {\n",
       "        text-align: right;\n",
       "    }\n",
       "</style>\n",
       "<table border=\"1\" class=\"dataframe\">\n",
       "  <thead>\n",
       "    <tr style=\"text-align: right;\">\n",
       "      <th></th>\n",
       "      <th>| Test Case ID</th>\n",
       "      <th>Requirement Covered</th>\n",
       "      <th>Objective</th>\n",
       "      <th>Pre-conditions</th>\n",
       "      <th>Steps to Execute</th>\n",
       "      <th>Expected Results |</th>\n",
       "    </tr>\n",
       "  </thead>\n",
       "  <tbody>\n",
       "    <tr>\n",
       "      <th>0</th>\n",
       "      <td>| ---</td>\n",
       "      <td>---</td>\n",
       "      <td>---</td>\n",
       "      <td>---</td>\n",
       "      <td>---</td>\n",
       "      <td>--- |</td>\n",
       "    </tr>\n",
       "    <tr>\n",
       "      <th>1</th>\n",
       "      <td>| TC1</td>\n",
       "      <td>208402</td>\n",
       "      <td>Validate iPDM ECU's behavior based on NORMAL, ...</td>\n",
       "      <td>The system is powered on and operational. Volt...</td>\n",
       "      <td>1. Set the voltage to NORMAL range. 2. Verify ...</td>\n",
       "      <td>1. iPDM ECU behaves as expected in NORMAL rang...</td>\n",
       "    </tr>\n",
       "    <tr>\n",
       "      <th>2</th>\n",
       "      <td>| TC2</td>\n",
       "      <td>347831</td>\n",
       "      <td>Verify the ECU working range as per the table</td>\n",
       "      <td>The system is powered on and operational. ECU ...</td>\n",
       "      <td>1. Set the voltage to the minimum value in the...</td>\n",
       "      <td>1. ECU works as expected at the minimum voltag...</td>\n",
       "    </tr>\n",
       "    <tr>\n",
       "      <th>3</th>\n",
       "      <td>| TC3</td>\n",
       "      <td>351454</td>\n",
       "      <td>Validate that the iPDM provides full functiona...</td>\n",
       "      <td>The system is powered on and operational. Volt...</td>\n",
       "      <td>1. Set the voltage to Normal range. 2. Verify ...</td>\n",
       "      <td>1. iPDM provides full functionality in Normal ...</td>\n",
       "    </tr>\n",
       "    <tr>\n",
       "      <th>4</th>\n",
       "      <td>| TC4</td>\n",
       "      <td>351456</td>\n",
       "      <td>Verify the iPDM functionalities during under v...</td>\n",
       "      <td>The system is powered on and operational. Volt...</td>\n",
       "      <td>1. Set the voltage to under voltage range. 2. ...</td>\n",
       "      <td>1. iPDM functions as expected during under vol...</td>\n",
       "    </tr>\n",
       "    <tr>\n",
       "      <th>5</th>\n",
       "      <td>| TC5</td>\n",
       "      <td>422904</td>\n",
       "      <td>Verify whether the DTC_Supply_voltage_below_li...</td>\n",
       "      <td>The system is powered on and operational. Volt...</td>\n",
       "      <td>1. Set the KL30_ALT or KL30_BAT voltage to 6V....</td>\n",
       "      <td>1. KL30_ALT or KL30_BAT voltage set to 6V. 2. ...</td>\n",
       "    </tr>\n",
       "    <tr>\n",
       "      <th>6</th>\n",
       "      <td>| TC6</td>\n",
       "      <td>422905</td>\n",
       "      <td>Verify whether the DTC_Supply_voltage_below_li...</td>\n",
       "      <td>The system is powered on and operational. Volt...</td>\n",
       "      <td>1. Set the KL30_ALT or KL30_BAT voltage to 6V....</td>\n",
       "      <td>1. KL30_ALT or KL30_BAT voltage set to 6V. 2. ...</td>\n",
       "    </tr>\n",
       "    <tr>\n",
       "      <th>7</th>\n",
       "      <td>| TC7</td>\n",
       "      <td>351457</td>\n",
       "      <td>Verify the iPDM functionalities during over vo...</td>\n",
       "      <td>The system is powered on and operational. Volt...</td>\n",
       "      <td>1. Set the voltage to over voltage range. 2. V...</td>\n",
       "      <td>1. iPDM functions as expected during over volt...</td>\n",
       "    </tr>\n",
       "    <tr>\n",
       "      <th>8</th>\n",
       "      <td>| TC8</td>\n",
       "      <td>422906</td>\n",
       "      <td>Verify the iPDM functionalities during over vo...</td>\n",
       "      <td>The system is powered on and operational. Volt...</td>\n",
       "      <td>1. Set the voltage to over voltage range. 2. V...</td>\n",
       "      <td>1. iPDM functions as expected during over volt...</td>\n",
       "    </tr>\n",
       "    <tr>\n",
       "      <th>9</th>\n",
       "      <td>| TC9</td>\n",
       "      <td>479957</td>\n",
       "      <td>Verify the iPDM functionalities during over vo...</td>\n",
       "      <td>The system is powered on and operational. Volt...</td>\n",
       "      <td>1. Set the voltage to over voltage range. 2. V...</td>\n",
       "      <td>1. iPDM functions as expected during over volt...</td>\n",
       "    </tr>\n",
       "    <tr>\n",
       "      <th>10</th>\n",
       "      <td>| TC10</td>\n",
       "      <td>422911</td>\n",
       "      <td>Validate that the DTC_Supply_voltage_exceeded ...</td>\n",
       "      <td>The system is powered on and operational. Volt...</td>\n",
       "      <td>1. Set the KL30_ALT voltage to 16V. 2. Read sy...</td>\n",
       "      <td>1. KL30_ALT voltage set to 16V. 2. DTC_Supply_...</td>\n",
       "    </tr>\n",
       "    <tr>\n",
       "      <th>11</th>\n",
       "      <td>| TC11</td>\n",
       "      <td>422915</td>\n",
       "      <td>Validate that the DTC_Supply_voltage_exceeded ...</td>\n",
       "      <td>The system is powered on and operational. Volt...</td>\n",
       "      <td>1. Set the KL30_ALT voltage to 16V. 2. Read sy...</td>\n",
       "      <td>1. KL30_ALT voltage set to 16V. 2. DTC_Supply_...</td>\n",
       "    </tr>\n",
       "  </tbody>\n",
       "</table>\n",
       "</div>"
      ],
      "text/plain": [
       "   | Test Case ID Requirement Covered  \\\n",
       "0           | ---                 ---   \n",
       "1           | TC1              208402   \n",
       "2           | TC2              347831   \n",
       "3           | TC3              351454   \n",
       "4           | TC4              351456   \n",
       "5           | TC5              422904   \n",
       "6           | TC6              422905   \n",
       "7           | TC7              351457   \n",
       "8           | TC8              422906   \n",
       "9           | TC9              479957   \n",
       "10         | TC10              422911   \n",
       "11         | TC11              422915   \n",
       "\n",
       "                                            Objective  \\\n",
       "0                                                 ---   \n",
       "1   Validate iPDM ECU's behavior based on NORMAL, ...   \n",
       "2       Verify the ECU working range as per the table   \n",
       "3   Validate that the iPDM provides full functiona...   \n",
       "4   Verify the iPDM functionalities during under v...   \n",
       "5   Verify whether the DTC_Supply_voltage_below_li...   \n",
       "6   Verify whether the DTC_Supply_voltage_below_li...   \n",
       "7   Verify the iPDM functionalities during over vo...   \n",
       "8   Verify the iPDM functionalities during over vo...   \n",
       "9   Verify the iPDM functionalities during over vo...   \n",
       "10  Validate that the DTC_Supply_voltage_exceeded ...   \n",
       "11  Validate that the DTC_Supply_voltage_exceeded ...   \n",
       "\n",
       "                                       Pre-conditions  \\\n",
       "0                                                 ---   \n",
       "1   The system is powered on and operational. Volt...   \n",
       "2   The system is powered on and operational. ECU ...   \n",
       "3   The system is powered on and operational. Volt...   \n",
       "4   The system is powered on and operational. Volt...   \n",
       "5   The system is powered on and operational. Volt...   \n",
       "6   The system is powered on and operational. Volt...   \n",
       "7   The system is powered on and operational. Volt...   \n",
       "8   The system is powered on and operational. Volt...   \n",
       "9   The system is powered on and operational. Volt...   \n",
       "10  The system is powered on and operational. Volt...   \n",
       "11  The system is powered on and operational. Volt...   \n",
       "\n",
       "                                     Steps to Execute  \\\n",
       "0                                                 ---   \n",
       "1   1. Set the voltage to NORMAL range. 2. Verify ...   \n",
       "2   1. Set the voltage to the minimum value in the...   \n",
       "3   1. Set the voltage to Normal range. 2. Verify ...   \n",
       "4   1. Set the voltage to under voltage range. 2. ...   \n",
       "5   1. Set the KL30_ALT or KL30_BAT voltage to 6V....   \n",
       "6   1. Set the KL30_ALT or KL30_BAT voltage to 6V....   \n",
       "7   1. Set the voltage to over voltage range. 2. V...   \n",
       "8   1. Set the voltage to over voltage range. 2. V...   \n",
       "9   1. Set the voltage to over voltage range. 2. V...   \n",
       "10  1. Set the KL30_ALT voltage to 16V. 2. Read sy...   \n",
       "11  1. Set the KL30_ALT voltage to 16V. 2. Read sy...   \n",
       "\n",
       "                                   Expected Results |  \n",
       "0                                               --- |  \n",
       "1   1. iPDM ECU behaves as expected in NORMAL rang...  \n",
       "2   1. ECU works as expected at the minimum voltag...  \n",
       "3   1. iPDM provides full functionality in Normal ...  \n",
       "4   1. iPDM functions as expected during under vol...  \n",
       "5   1. KL30_ALT or KL30_BAT voltage set to 6V. 2. ...  \n",
       "6   1. KL30_ALT or KL30_BAT voltage set to 6V. 2. ...  \n",
       "7   1. iPDM functions as expected during over volt...  \n",
       "8   1. iPDM functions as expected during over volt...  \n",
       "9   1. iPDM functions as expected during over volt...  \n",
       "10  1. KL30_ALT voltage set to 16V. 2. DTC_Supply_...  \n",
       "11  1. KL30_ALT voltage set to 16V. 2. DTC_Supply_...  "
      ]
     },
     "execution_count": 302,
     "metadata": {},
     "output_type": "execute_result"
    }
   ],
   "source": [
    "header = rows[0]  # First row as header\n",
    "data_rows = rows[1:]  # Remaining rows as data\n",
    "df = pd.DataFrame(data_rows, columns=header)\n",
    "\n",
    "df"
   ]
  },
  {
   "cell_type": "code",
   "execution_count": 284,
   "id": "564adb42-76a6-4572-96c9-858c53145d85",
   "metadata": {},
   "outputs": [],
   "source": [
    "df.to_excel(\"tabular_data.xlsx\", index=False)"
   ]
  },
  {
   "cell_type": "code",
   "execution_count": 369,
   "id": "b115754d-6d48-4c24-b88d-76e0b7449828",
   "metadata": {},
   "outputs": [],
   "source": [
    "from typing import Dict\n",
    "from langchain_core.tools import tool\n",
    "from pydantic import BaseModel, Field\n",
    "\n",
    "# Define the input schema\n",
    "class RequirementInput(BaseModel):\n",
    "    ID: str = Field(..., description=\"The id of the requirement, e.g., 421578\")\n",
    "    Primary_Text: str = Field(..., description=\"The primary text describing the requirement.\")\n",
    "    Verification_Criteria: str = Field(..., description=\"The verification criteria for the requirement.\")\n",
    "    Artifact_Type: str = Field(..., description=\"The type of requirement, e.g., 'SYS Requirement'.\")\n",
    "\n",
    "@tool\n",
    "def write_test_case(requirement: RequirementInput) -> Dict[str, str]:\n",
    "    \"\"\"\n",
    "       Generate Test Cases by dynamically creating 'Steps to Execute' using an LLM.\n",
    "    \"\"\"\n",
    "    # Ensure the artifact type is correct for test case generation\n",
    "    if artifact_type != \"SYS Requirement\":\n",
    "        pass\n",
    "        \n",
    "    # # Extract relevant details from the requirement\n",
    "    # req_ID = requirement.get(\"id\", \"No id mentioned\")\n",
    "    # primary_text = requirement.get(\"Primary Text\", \"No primary text provided.\")\n",
    "    # verification_criteria = requirement.get(\"Verification Criteria\", \"No verification criteria provided.\")\n",
    "    # artifact_type = requirement.get(\"Artifact Type\", \"\")\n",
    "\n",
    "    steps_prompt = (\n",
    "        f\"Based on the following requirement, write detailed steps to execute for testing:\\n\\n\"\n",
    "        f\"Primary Text: {requirement.Primary_Text}\\n\"\n",
    "        f\"Verification Criteria: {requirement.Verification_Criteria}\\n\\n\"\n",
    "        f\"Steps to Execute should be clear, actionable, and cover all necessary validation scenarios.\"\n",
    "    )\n",
    "\n",
    "    steps_to_execute = llm.invoke(steps_prompt).strip()\n",
    "\n",
    "    expected_op_prompt = (\n",
    "        f\"For the each value of {steps_to_execute}, write its corresponding expected behaviour.\"\n",
    "        f\"Expected behaviour is to verify the input steps are correcting performed or not.\"\n",
    "        '''Example format\n",
    "        Input: \n",
    "        1. Set up the test environment to simulate Under Voltage.\n",
    "        2. Verify the iPDM provides full functionality during Under Voltage.\n",
    "        Expected Output:\n",
    "        1. Under Voltage should be simulated\n",
    "        2. iPDM should provide full functionality during Under Voltage'''\n",
    "    )\n",
    "\n",
    "    expected_op = llm.invoke(expected_op_prompt).strip()\n",
    "\n",
    "    # Generate a test case based on the primary text\n",
    "    test_case = {\n",
    "        \"Test Case ID\": f\"TC_{hash(requirement.Primary_Text) % 10000}\",\n",
    "        \"Requirement Covered\": requirement.id,\n",
    "        \"Objective\": f\"Validate: {requirement.Primary_Text}\",\n",
    "        \"Pre-conditions\": \"1. The system is powered on and operational.\\n\"\n",
    "            \"2. The system is in a known state before test execution.\",\n",
    "        \"Steps to Execute\": steps_to_execute,\n",
    "        \"Expected Results\": expected_op\n",
    "    }\n",
    "    return test_case"
   ]
  },
  {
   "cell_type": "code",
   "execution_count": 370,
   "id": "ed1d509a-be2a-4248-81e1-f97c20660c71",
   "metadata": {},
   "outputs": [],
   "source": [
    "from langchain.prompts import PromptTemplate\n",
    "\n",
    "template = '''You are an AI assistant specialized in generating test cases for system requirements. \n",
    "You have access to a tool called `write_test_case`, which generates structured test cases based on the details of a system requirement. This tool does not include preamble phrases in the Objective and Steps to Execute sections, making the test cases concise and directly actionable.\n",
    "\n",
    "### Tool Details:\n",
    "- **Name:** `write_test_case`\n",
    "- **Functionality:** Generates a concise and structured test case for a given system requirement, provided the `Artifact Type` is \"SYS Requirement.\"\n",
    "- **Inputs:** A dictionary with the following keys:\n",
    "  - `id`: The requirent ID\n",
    "  - `Primary Text`: The main description of the requirement.\n",
    "  - `Verification Criteria`: The conditions or steps to validate the requirement.\n",
    "  - `Artifact Type`: The type of requirement (e.g., \"SYS Requirement\").\n",
    "- **Output:** A structured test case including:\n",
    "  - `Test Case ID`: A unique identifier for the test case.\n",
    "  - `Requirement Covered`: ID of the requirement.\n",
    "  - `Objective`: A validation statement directly tied to the primary text.\n",
    "  - `Pre-conditions`: Necessary system setup before executing the test case.\n",
    "  - `Steps to Execute`: A concise list of steps derived from the primary text and verification criteria.\n",
    "  - `Expected Results`: Expected value for corresponding to each Execute step.\n",
    "\n",
    "### Instructions:\n",
    "1. When the user provides a requirement in JSON object format, extract the `Primary Text`, `Verification Criteria`, and `Artifact Type` from their input.\n",
    "2. If the `Artifact Type` is \"SYS Requirement,\" pass the data to the `write_test_case` tool to generate a test case.\n",
    "3. If the `Artifact Type` is not \"SYS Requirement,\" No need for generating test case.\n",
    "4. Present the generated test case to the user in a clear and organized format.\n",
    "5. If any required details are missing, ask the user to provide the missing information before generating the test case.\n",
    "\n",
    "### Example Interaction:\n",
    "**User Input:**\n",
    "id: 411411\n",
    "Primary Text: The system must maintain functionality under low voltage conditions. \n",
    "Verification Criteria: Simulate low voltage and ensure the system operates without errors. \n",
    "Artifact Type: SYS Requirement.\"\n",
    "\n",
    "**AI Process:**\n",
    "- Parse the requirement into the tool's input format.\n",
    "- Call the `write_test_case` tool.\n",
    "- Present the generated test case to the user.\n",
    "\n",
    "**AI Response:**\n",
    "\"Here is the test case generated for your requirement:\n",
    "\n",
    "Test Case ID: TC1 \n",
    "Requirement Covered: 411411.  \n",
    "Objective: Validate: The system must maintain functionality under low voltage conditions.  \n",
    "Pre-conditions: The system is powered on and in a known operational state.  \n",
    "Steps to Execute:  \n",
    "1. The system must maintain functionality under low voltage conditions.  \n",
    "2. Simulate low voltage and ensure system operates without errors.  \n",
    "3. Observe and record the system's responses.  \n",
    "Expected Results: \n",
    "1. System should be fully functional.\n",
    "2. System should operate without errors in low voltage state.\n",
    "3. System should not have any faults.\n",
    "\n",
    "\n",
    "Here is the the requirement on which you need to perform this task:  \n",
    "{requirement}\n",
    "\n",
    "'''\n",
    "\n",
    "prompt_tool = PromptTemplate.from_template(template=template, input_varible=[\"requirement\"])"
   ]
  },
  {
   "cell_type": "code",
   "execution_count": 371,
   "id": "e4bd2b56-55fc-4ea9-94eb-2391b3dbaa87",
   "metadata": {},
   "outputs": [],
   "source": [
    "tools = [write_test_case_tool]\n",
    "llm_with_tools = llm.bind_tools(tools)"
   ]
  },
  {
   "cell_type": "code",
   "execution_count": 372,
   "id": "7b5ef9ec-199a-458d-bdda-24b34480d44f",
   "metadata": {},
   "outputs": [],
   "source": [
    "requirement_example = {\n",
    "    \"id\": \"425162\",\n",
    "    \"Primary Text\": \"The system must maintain functionality under low voltage conditions.\",\n",
    "    \"Verification Criteria\": \"Simulate low voltage and ensure system operates without errors.\",\n",
    "    \"Artifact Type\": \"SYS Requirement\"\n",
    "}\n",
    "\n",
    "chain = prompt_tool | llm\n",
    "response = chain.invoke(input={\"requirement\": all_documents})"
   ]
  },
  {
   "cell_type": "code",
   "execution_count": null,
   "id": "69623add-9773-4156-a45a-4538455b0488",
   "metadata": {},
   "outputs": [],
   "source": []
  }
 ],
 "metadata": {
  "kernelspec": {
   "display_name": "Python 3 (ipykernel)",
   "language": "python",
   "name": "python3"
  },
  "language_info": {
   "codemirror_mode": {
    "name": "ipython",
    "version": 3
   },
   "file_extension": ".py",
   "mimetype": "text/x-python",
   "name": "python",
   "nbconvert_exporter": "python",
   "pygments_lexer": "ipython3",
   "version": "3.13.0"
  }
 },
 "nbformat": 4,
 "nbformat_minor": 5
}
